{
 "cells": [
  {
   "cell_type": "markdown",
   "id": "6e1adfa3",
   "metadata": {
    "papermill": {
     "duration": 0.028414,
     "end_time": "2024-01-03T07:27:18.182488",
     "exception": false,
     "start_time": "2024-01-03T07:27:18.154074",
     "status": "completed"
    },
    "tags": []
   },
   "source": [
    "## Data Description"
   ]
  },
  {
   "cell_type": "markdown",
   "id": "489917f8",
   "metadata": {
    "papermill": {
     "duration": 0.027436,
     "end_time": "2024-01-03T07:27:18.238179",
     "exception": false,
     "start_time": "2024-01-03T07:27:18.210743",
     "status": "completed"
    },
    "tags": []
   },
   "source": [
    "This data will be used to conduct a detailed exploratory data analysis on christmas sales and trends.\n",
    "**Columns Description**:\n",
    "\n",
    "* Date (Date of the transaction, format: YYYY-MM-DD)\n",
    "* Time (Time of the transaction, format: HH:MM:SS)\n",
    "* CustomerID (Unique identifier for each customer)\n",
    "* Age (Age of the customer)\n",
    "* Gender (Gender of the customer: Male, Female, Other)\n",
    "* Location (City or town where the purchase was made)\n",
    "* StoreID (Unique identifier for the store, if applicable)\n",
    "* OnlineOrderFlag (Boolean: True if online, False if in-store)\n",
    "* ProductID (Unique identifier for the product)\n",
    "* ProductName (Name of the product)\n",
    "* Category (Category of the product, e.g., Electronics, Clothing, Toys, Food, Decorations)\n",
    "* Quantity (Number of items purchased in the transaction)\n",
    "* UnitPrice (Price per unit of the product)\n",
    "* TotalPrice (Total price for the product, calculated as Quantity * UnitPrice)\n",
    "* PaymentType (Type of payment, e.g., Credit Card, Debit Card, Cash, Online Payment)\n",
    "* PromotionApplied (Boolean: True if any promotion was applied, False otherwise)\n",
    "* DiscountAmount (The amount of discount, if any)\n",
    "* GiftWrap (Boolean: True if the product was gift-wrapped, False otherwise)\n",
    "* ShippingMethod (Method of shipping, e.g., Standard, Express, Overnight, if online)\n",
    "* DeliveryTime (Number of days taken for delivery, if online)\n",
    "* Weather (General weather condition on the day of purchase, e.g., Snowy, Rainy, Sunny)\n",
    "* Event (Special events on the purchase day, e.g., Christmas Market, Black Friday)\n",
    "* CustomerSatisfaction (Customer satisfaction rating, on a scale of 1-5)\n",
    "* ReturnFlag (Boolean: True if the product was returned, False otherwise)"
   ]
  },
  {
   "cell_type": "markdown",
   "id": "f23dacef",
   "metadata": {
    "papermill": {
     "duration": 0.027313,
     "end_time": "2024-01-03T07:27:18.294145",
     "exception": false,
     "start_time": "2024-01-03T07:27:18.266832",
     "status": "completed"
    },
    "tags": []
   },
   "source": []
  },
  {
   "cell_type": "markdown",
   "id": "de91b892",
   "metadata": {
    "papermill": {
     "duration": 0.027407,
     "end_time": "2024-01-03T07:27:18.349459",
     "exception": false,
     "start_time": "2024-01-03T07:27:18.322052",
     "status": "completed"
    },
    "tags": []
   },
   "source": [
    "## Import the libraries to use"
   ]
  },
  {
   "cell_type": "code",
   "execution_count": 1,
   "id": "ec8067b1",
   "metadata": {
    "execution": {
     "iopub.execute_input": "2024-01-03T07:27:18.407118Z",
     "iopub.status.busy": "2024-01-03T07:27:18.406415Z",
     "iopub.status.idle": "2024-01-03T07:27:21.232053Z",
     "shell.execute_reply": "2024-01-03T07:27:21.230401Z"
    },
    "papermill": {
     "duration": 2.858036,
     "end_time": "2024-01-03T07:27:21.235416",
     "exception": false,
     "start_time": "2024-01-03T07:27:18.377380",
     "status": "completed"
    },
    "tags": []
   },
   "outputs": [
    {
     "name": "stdout",
     "output_type": "stream",
     "text": [
      "/kaggle/input/christmas-sales-and-trends/Christmas Sales and Trends.csv\n"
     ]
    }
   ],
   "source": [
    "# Libraries for data manipulation\n",
    "import numpy as np \n",
    "import pandas as pd \n",
    "import datetime\n",
    "import os\n",
    "for dirname, _, filenames in os.walk('/kaggle/input'):\n",
    "    for filename in filenames:\n",
    "        print(os.path.join(dirname, filename))\n",
    "# Libraries for data manipulation\n",
    "\n",
    "import matplotlib.pyplot as plt\n",
    "%matplotlib inline\n",
    "import seaborn as sns\n",
    "import plotly.express as px\n",
    "\n",
    "# Enable display of all rows and all columns\n",
    "pd.set_option(\"display.max_rows\", None)\n",
    "pd.set_option(\"display.max_columns\", None)\n",
    "\n",
    "# Set the font size, font weight, and dpi of the figures\n",
    "plt.rcParams['figure.figsize'] = 10,6\n",
    "plt.rcParams['font.size'] = 6\n",
    "plt.rcParams['font.weight'] = 'bold'\n",
    "\n",
    "# Supress warnings in the outputs\n",
    "import warnings\n",
    "warnings.filterwarnings(\"ignore\")"
   ]
  },
  {
   "cell_type": "markdown",
   "id": "fb09e911",
   "metadata": {
    "editable": false,
    "papermill": {
     "duration": 0.02748,
     "end_time": "2024-01-03T07:27:21.386593",
     "exception": false,
     "start_time": "2024-01-03T07:27:21.359113",
     "status": "completed"
    },
    "tags": []
   },
   "source": [
    "## Import the data to use"
   ]
  },
  {
   "cell_type": "code",
   "execution_count": 2,
   "id": "a4a755ec",
   "metadata": {
    "editable": false,
    "execution": {
     "iopub.execute_input": "2024-01-03T07:27:21.445804Z",
     "iopub.status.busy": "2024-01-03T07:27:21.444889Z",
     "iopub.status.idle": "2024-01-03T07:27:21.555082Z",
     "shell.execute_reply": "2024-01-03T07:27:21.553715Z"
    },
    "papermill": {
     "duration": 0.143626,
     "end_time": "2024-01-03T07:27:21.558387",
     "exception": false,
     "start_time": "2024-01-03T07:27:21.414761",
     "status": "completed"
    },
    "tags": []
   },
   "outputs": [],
   "source": [
    "xmas = pd.read_csv(\"/kaggle/input/christmas-sales-and-trends/Christmas Sales and Trends.csv\")"
   ]
  },
  {
   "cell_type": "markdown",
   "id": "cf13fe8f",
   "metadata": {
    "editable": false,
    "papermill": {
     "duration": 0.029101,
     "end_time": "2024-01-03T07:27:21.616630",
     "exception": false,
     "start_time": "2024-01-03T07:27:21.587529",
     "status": "completed"
    },
    "tags": []
   },
   "source": [
    "## Data Overview"
   ]
  },
  {
   "cell_type": "code",
   "execution_count": 3,
   "id": "a2a365e5",
   "metadata": {
    "editable": false,
    "execution": {
     "iopub.execute_input": "2024-01-03T07:27:21.677772Z",
     "iopub.status.busy": "2024-01-03T07:27:21.676634Z",
     "iopub.status.idle": "2024-01-03T07:27:21.721884Z",
     "shell.execute_reply": "2024-01-03T07:27:21.720980Z"
    },
    "papermill": {
     "duration": 0.078254,
     "end_time": "2024-01-03T07:27:21.724680",
     "exception": false,
     "start_time": "2024-01-03T07:27:21.646426",
     "status": "completed"
    },
    "tags": []
   },
   "outputs": [
    {
     "name": "stdout",
     "output_type": "stream",
     "text": [
      "<class 'pandas.core.frame.DataFrame'>\n",
      "RangeIndex: 10000 entries, 0 to 9999\n",
      "Data columns (total 25 columns):\n",
      " #   Column                Non-Null Count  Dtype  \n",
      "---  ------                --------------  -----  \n",
      " 0   TransactionID         10000 non-null  int64  \n",
      " 1   Date                  10000 non-null  object \n",
      " 2   Time                  10000 non-null  object \n",
      " 3   CustomerID            10000 non-null  int64  \n",
      " 4   Age                   10000 non-null  int64  \n",
      " 5   Gender                10000 non-null  object \n",
      " 6   Location              10000 non-null  object \n",
      " 7   StoreID               4582 non-null   float64\n",
      " 8   OnlineOrderFlag       10000 non-null  bool   \n",
      " 9   ProductID             10000 non-null  int64  \n",
      " 10  ProductName           10000 non-null  object \n",
      " 11  Category              10000 non-null  object \n",
      " 12  Quantity              10000 non-null  int64  \n",
      " 13  UnitPrice             10000 non-null  float64\n",
      " 14  TotalPrice            10000 non-null  float64\n",
      " 15  PaymentType           10000 non-null  object \n",
      " 16  PromotionApplied      10000 non-null  bool   \n",
      " 17  DiscountAmount        10000 non-null  float64\n",
      " 18  GiftWrap              10000 non-null  bool   \n",
      " 19  ShippingMethod        5418 non-null   object \n",
      " 20  DeliveryTime          5418 non-null   float64\n",
      " 21  Weather               10000 non-null  object \n",
      " 22  Event                 7162 non-null   object \n",
      " 23  CustomerSatisfaction  10000 non-null  int64  \n",
      " 24  ReturnFlag            10000 non-null  bool   \n",
      "dtypes: bool(4), float64(5), int64(6), object(10)\n",
      "memory usage: 1.6+ MB\n"
     ]
    }
   ],
   "source": [
    "xmas.info()"
   ]
  },
  {
   "cell_type": "markdown",
   "id": "7088254a",
   "metadata": {
    "editable": false,
    "papermill": {
     "duration": 0.027997,
     "end_time": "2024-01-03T07:27:21.781266",
     "exception": false,
     "start_time": "2024-01-03T07:27:21.753269",
     "status": "completed"
    },
    "tags": []
   },
   "source": [
    "* The data has a mix of variables with integer, string (object) and decimal (float) data type.\n",
    "* It is consuming 1.6+ MB of memory.\n",
    "* It contains 25 columns and 10000 rows."
   ]
  },
  {
   "cell_type": "code",
   "execution_count": 4,
   "id": "e51b6ac0",
   "metadata": {
    "editable": false,
    "execution": {
     "iopub.execute_input": "2024-01-03T07:27:21.840010Z",
     "iopub.status.busy": "2024-01-03T07:27:21.839407Z",
     "iopub.status.idle": "2024-01-03T07:27:21.848462Z",
     "shell.execute_reply": "2024-01-03T07:27:21.847617Z"
    },
    "papermill": {
     "duration": 0.041097,
     "end_time": "2024-01-03T07:27:21.850705",
     "exception": false,
     "start_time": "2024-01-03T07:27:21.809608",
     "status": "completed"
    },
    "tags": []
   },
   "outputs": [
    {
     "data": {
      "text/plain": [
       "TransactionID             int64\n",
       "Date                     object\n",
       "Time                     object\n",
       "CustomerID                int64\n",
       "Age                       int64\n",
       "Gender                   object\n",
       "Location                 object\n",
       "StoreID                 float64\n",
       "OnlineOrderFlag            bool\n",
       "ProductID                 int64\n",
       "ProductName              object\n",
       "Category                 object\n",
       "Quantity                  int64\n",
       "UnitPrice               float64\n",
       "TotalPrice              float64\n",
       "PaymentType              object\n",
       "PromotionApplied           bool\n",
       "DiscountAmount          float64\n",
       "GiftWrap                   bool\n",
       "ShippingMethod           object\n",
       "DeliveryTime            float64\n",
       "Weather                  object\n",
       "Event                    object\n",
       "CustomerSatisfaction      int64\n",
       "ReturnFlag                 bool\n",
       "dtype: object"
      ]
     },
     "execution_count": 4,
     "metadata": {},
     "output_type": "execute_result"
    }
   ],
   "source": [
    "xmas.dtypes"
   ]
  },
  {
   "cell_type": "code",
   "execution_count": 5,
   "id": "4a26d8e3",
   "metadata": {
    "editable": false,
    "execution": {
     "iopub.execute_input": "2024-01-03T07:27:21.910366Z",
     "iopub.status.busy": "2024-01-03T07:27:21.909880Z",
     "iopub.status.idle": "2024-01-03T07:27:21.943714Z",
     "shell.execute_reply": "2024-01-03T07:27:21.942384Z"
    },
    "papermill": {
     "duration": 0.067172,
     "end_time": "2024-01-03T07:27:21.946763",
     "exception": false,
     "start_time": "2024-01-03T07:27:21.879591",
     "status": "completed"
    },
    "tags": []
   },
   "outputs": [
    {
     "data": {
      "text/html": [
       "<div>\n",
       "<style scoped>\n",
       "    .dataframe tbody tr th:only-of-type {\n",
       "        vertical-align: middle;\n",
       "    }\n",
       "\n",
       "    .dataframe tbody tr th {\n",
       "        vertical-align: top;\n",
       "    }\n",
       "\n",
       "    .dataframe thead th {\n",
       "        text-align: right;\n",
       "    }\n",
       "</style>\n",
       "<table border=\"1\" class=\"dataframe\">\n",
       "  <thead>\n",
       "    <tr style=\"text-align: right;\">\n",
       "      <th></th>\n",
       "      <th>TransactionID</th>\n",
       "      <th>Date</th>\n",
       "      <th>Time</th>\n",
       "      <th>CustomerID</th>\n",
       "      <th>Age</th>\n",
       "      <th>Gender</th>\n",
       "      <th>Location</th>\n",
       "      <th>StoreID</th>\n",
       "      <th>OnlineOrderFlag</th>\n",
       "      <th>ProductID</th>\n",
       "      <th>ProductName</th>\n",
       "      <th>Category</th>\n",
       "      <th>Quantity</th>\n",
       "      <th>UnitPrice</th>\n",
       "      <th>TotalPrice</th>\n",
       "      <th>PaymentType</th>\n",
       "      <th>PromotionApplied</th>\n",
       "      <th>DiscountAmount</th>\n",
       "      <th>GiftWrap</th>\n",
       "      <th>ShippingMethod</th>\n",
       "      <th>DeliveryTime</th>\n",
       "      <th>Weather</th>\n",
       "      <th>Event</th>\n",
       "      <th>CustomerSatisfaction</th>\n",
       "      <th>ReturnFlag</th>\n",
       "    </tr>\n",
       "  </thead>\n",
       "  <tbody>\n",
       "    <tr>\n",
       "      <th>0</th>\n",
       "      <td>1</td>\n",
       "      <td>12/24/2020</td>\n",
       "      <td>7:27:59</td>\n",
       "      <td>441</td>\n",
       "      <td>27</td>\n",
       "      <td>Other</td>\n",
       "      <td>City_15</td>\n",
       "      <td>NaN</td>\n",
       "      <td>True</td>\n",
       "      <td>106</td>\n",
       "      <td>Toys_Product</td>\n",
       "      <td>Toys</td>\n",
       "      <td>5</td>\n",
       "      <td>96.786255</td>\n",
       "      <td>483.931273</td>\n",
       "      <td>Credit Card</td>\n",
       "      <td>False</td>\n",
       "      <td>0.0</td>\n",
       "      <td>False</td>\n",
       "      <td>Standard</td>\n",
       "      <td>5.0</td>\n",
       "      <td>Snowy</td>\n",
       "      <td>NaN</td>\n",
       "      <td>5</td>\n",
       "      <td>False</td>\n",
       "    </tr>\n",
       "    <tr>\n",
       "      <th>1</th>\n",
       "      <td>2</td>\n",
       "      <td>11/18/2022</td>\n",
       "      <td>14:36:39</td>\n",
       "      <td>340</td>\n",
       "      <td>43</td>\n",
       "      <td>Male</td>\n",
       "      <td>City_13</td>\n",
       "      <td>NaN</td>\n",
       "      <td>True</td>\n",
       "      <td>816</td>\n",
       "      <td>Clothing_Product</td>\n",
       "      <td>Clothing</td>\n",
       "      <td>1</td>\n",
       "      <td>95.279579</td>\n",
       "      <td>95.279579</td>\n",
       "      <td>Credit Card</td>\n",
       "      <td>True</td>\n",
       "      <td>0.0</td>\n",
       "      <td>True</td>\n",
       "      <td>Express</td>\n",
       "      <td>3.0</td>\n",
       "      <td>Sunny</td>\n",
       "      <td>NaN</td>\n",
       "      <td>2</td>\n",
       "      <td>True</td>\n",
       "    </tr>\n",
       "    <tr>\n",
       "      <th>2</th>\n",
       "      <td>3</td>\n",
       "      <td>12/26/2019</td>\n",
       "      <td>20:23:50</td>\n",
       "      <td>31</td>\n",
       "      <td>25</td>\n",
       "      <td>Other</td>\n",
       "      <td>City_7</td>\n",
       "      <td>92.0</td>\n",
       "      <td>False</td>\n",
       "      <td>508</td>\n",
       "      <td>Clothing_Product</td>\n",
       "      <td>Clothing</td>\n",
       "      <td>2</td>\n",
       "      <td>52.371645</td>\n",
       "      <td>104.743291</td>\n",
       "      <td>Credit Card</td>\n",
       "      <td>False</td>\n",
       "      <td>0.0</td>\n",
       "      <td>False</td>\n",
       "      <td>NaN</td>\n",
       "      <td>NaN</td>\n",
       "      <td>Rainy</td>\n",
       "      <td>Christmas Market</td>\n",
       "      <td>4</td>\n",
       "      <td>False</td>\n",
       "    </tr>\n",
       "    <tr>\n",
       "      <th>3</th>\n",
       "      <td>4</td>\n",
       "      <td>11/13/2018</td>\n",
       "      <td>23:08:08</td>\n",
       "      <td>39</td>\n",
       "      <td>64</td>\n",
       "      <td>Male</td>\n",
       "      <td>City_20</td>\n",
       "      <td>100.0</td>\n",
       "      <td>False</td>\n",
       "      <td>710</td>\n",
       "      <td>Toys_Product</td>\n",
       "      <td>Toys</td>\n",
       "      <td>5</td>\n",
       "      <td>63.647293</td>\n",
       "      <td>318.236463</td>\n",
       "      <td>Debit Card</td>\n",
       "      <td>False</td>\n",
       "      <td>0.0</td>\n",
       "      <td>True</td>\n",
       "      <td>NaN</td>\n",
       "      <td>NaN</td>\n",
       "      <td>Rainy</td>\n",
       "      <td>NaN</td>\n",
       "      <td>1</td>\n",
       "      <td>True</td>\n",
       "    </tr>\n",
       "    <tr>\n",
       "      <th>4</th>\n",
       "      <td>5</td>\n",
       "      <td>12/13/2020</td>\n",
       "      <td>4:38:08</td>\n",
       "      <td>344</td>\n",
       "      <td>26</td>\n",
       "      <td>Other</td>\n",
       "      <td>City_10</td>\n",
       "      <td>90.0</td>\n",
       "      <td>False</td>\n",
       "      <td>687</td>\n",
       "      <td>Toys_Product</td>\n",
       "      <td>Toys</td>\n",
       "      <td>3</td>\n",
       "      <td>57.384041</td>\n",
       "      <td>172.152122</td>\n",
       "      <td>Cash</td>\n",
       "      <td>False</td>\n",
       "      <td>0.0</td>\n",
       "      <td>True</td>\n",
       "      <td>NaN</td>\n",
       "      <td>NaN</td>\n",
       "      <td>Sunny</td>\n",
       "      <td>Christmas Market</td>\n",
       "      <td>4</td>\n",
       "      <td>False</td>\n",
       "    </tr>\n",
       "  </tbody>\n",
       "</table>\n",
       "</div>"
      ],
      "text/plain": [
       "   TransactionID        Date      Time  CustomerID  Age Gender Location  \\\n",
       "0              1  12/24/2020   7:27:59         441   27  Other  City_15   \n",
       "1              2  11/18/2022  14:36:39         340   43   Male  City_13   \n",
       "2              3  12/26/2019  20:23:50          31   25  Other   City_7   \n",
       "3              4  11/13/2018  23:08:08          39   64   Male  City_20   \n",
       "4              5  12/13/2020   4:38:08         344   26  Other  City_10   \n",
       "\n",
       "   StoreID  OnlineOrderFlag  ProductID       ProductName  Category  Quantity  \\\n",
       "0      NaN             True        106      Toys_Product      Toys         5   \n",
       "1      NaN             True        816  Clothing_Product  Clothing         1   \n",
       "2     92.0            False        508  Clothing_Product  Clothing         2   \n",
       "3    100.0            False        710      Toys_Product      Toys         5   \n",
       "4     90.0            False        687      Toys_Product      Toys         3   \n",
       "\n",
       "   UnitPrice  TotalPrice  PaymentType  PromotionApplied  DiscountAmount  \\\n",
       "0  96.786255  483.931273  Credit Card             False             0.0   \n",
       "1  95.279579   95.279579  Credit Card              True             0.0   \n",
       "2  52.371645  104.743291  Credit Card             False             0.0   \n",
       "3  63.647293  318.236463   Debit Card             False             0.0   \n",
       "4  57.384041  172.152122         Cash             False             0.0   \n",
       "\n",
       "   GiftWrap ShippingMethod  DeliveryTime Weather             Event  \\\n",
       "0     False       Standard           5.0   Snowy               NaN   \n",
       "1      True        Express           3.0   Sunny               NaN   \n",
       "2     False            NaN           NaN   Rainy  Christmas Market   \n",
       "3      True            NaN           NaN   Rainy               NaN   \n",
       "4      True            NaN           NaN   Sunny  Christmas Market   \n",
       "\n",
       "   CustomerSatisfaction  ReturnFlag  \n",
       "0                     5       False  \n",
       "1                     2        True  \n",
       "2                     4       False  \n",
       "3                     1        True  \n",
       "4                     4       False  "
      ]
     },
     "execution_count": 5,
     "metadata": {},
     "output_type": "execute_result"
    }
   ],
   "source": [
    "# Check the first five rows of the data\n",
    "xmas.head()"
   ]
  },
  {
   "cell_type": "code",
   "execution_count": 6,
   "id": "915ff360",
   "metadata": {
    "editable": false,
    "execution": {
     "iopub.execute_input": "2024-01-03T07:27:22.008605Z",
     "iopub.status.busy": "2024-01-03T07:27:22.008081Z",
     "iopub.status.idle": "2024-01-03T07:27:22.037120Z",
     "shell.execute_reply": "2024-01-03T07:27:22.035810Z"
    },
    "papermill": {
     "duration": 0.062961,
     "end_time": "2024-01-03T07:27:22.039772",
     "exception": false,
     "start_time": "2024-01-03T07:27:21.976811",
     "status": "completed"
    },
    "tags": []
   },
   "outputs": [
    {
     "data": {
      "text/html": [
       "<div>\n",
       "<style scoped>\n",
       "    .dataframe tbody tr th:only-of-type {\n",
       "        vertical-align: middle;\n",
       "    }\n",
       "\n",
       "    .dataframe tbody tr th {\n",
       "        vertical-align: top;\n",
       "    }\n",
       "\n",
       "    .dataframe thead th {\n",
       "        text-align: right;\n",
       "    }\n",
       "</style>\n",
       "<table border=\"1\" class=\"dataframe\">\n",
       "  <thead>\n",
       "    <tr style=\"text-align: right;\">\n",
       "      <th></th>\n",
       "      <th>TransactionID</th>\n",
       "      <th>Date</th>\n",
       "      <th>Time</th>\n",
       "      <th>CustomerID</th>\n",
       "      <th>Age</th>\n",
       "      <th>Gender</th>\n",
       "      <th>Location</th>\n",
       "      <th>StoreID</th>\n",
       "      <th>OnlineOrderFlag</th>\n",
       "      <th>ProductID</th>\n",
       "      <th>ProductName</th>\n",
       "      <th>Category</th>\n",
       "      <th>Quantity</th>\n",
       "      <th>UnitPrice</th>\n",
       "      <th>TotalPrice</th>\n",
       "      <th>PaymentType</th>\n",
       "      <th>PromotionApplied</th>\n",
       "      <th>DiscountAmount</th>\n",
       "      <th>GiftWrap</th>\n",
       "      <th>ShippingMethod</th>\n",
       "      <th>DeliveryTime</th>\n",
       "      <th>Weather</th>\n",
       "      <th>Event</th>\n",
       "      <th>CustomerSatisfaction</th>\n",
       "      <th>ReturnFlag</th>\n",
       "    </tr>\n",
       "  </thead>\n",
       "  <tbody>\n",
       "    <tr>\n",
       "      <th>9995</th>\n",
       "      <td>9996</td>\n",
       "      <td>12/21/2022</td>\n",
       "      <td>12:05:06</td>\n",
       "      <td>245</td>\n",
       "      <td>25</td>\n",
       "      <td>Other</td>\n",
       "      <td>City_10</td>\n",
       "      <td>NaN</td>\n",
       "      <td>True</td>\n",
       "      <td>54</td>\n",
       "      <td>Decorations_Product</td>\n",
       "      <td>Decorations</td>\n",
       "      <td>1</td>\n",
       "      <td>91.072121</td>\n",
       "      <td>91.072121</td>\n",
       "      <td>Credit Card</td>\n",
       "      <td>False</td>\n",
       "      <td>9.107212</td>\n",
       "      <td>True</td>\n",
       "      <td>Express</td>\n",
       "      <td>4.0</td>\n",
       "      <td>Sunny</td>\n",
       "      <td>Black Friday</td>\n",
       "      <td>4</td>\n",
       "      <td>False</td>\n",
       "    </tr>\n",
       "    <tr>\n",
       "      <th>9996</th>\n",
       "      <td>9997</td>\n",
       "      <td>11/24/2022</td>\n",
       "      <td>17:28:29</td>\n",
       "      <td>295</td>\n",
       "      <td>46</td>\n",
       "      <td>Female</td>\n",
       "      <td>City_17</td>\n",
       "      <td>NaN</td>\n",
       "      <td>True</td>\n",
       "      <td>324</td>\n",
       "      <td>Electronics_Product</td>\n",
       "      <td>Electronics</td>\n",
       "      <td>1</td>\n",
       "      <td>41.538590</td>\n",
       "      <td>41.538590</td>\n",
       "      <td>Debit Card</td>\n",
       "      <td>True</td>\n",
       "      <td>4.153859</td>\n",
       "      <td>True</td>\n",
       "      <td>Express</td>\n",
       "      <td>5.0</td>\n",
       "      <td>Rainy</td>\n",
       "      <td>Black Friday</td>\n",
       "      <td>2</td>\n",
       "      <td>True</td>\n",
       "    </tr>\n",
       "    <tr>\n",
       "      <th>9997</th>\n",
       "      <td>9998</td>\n",
       "      <td>11/2/2021</td>\n",
       "      <td>23:20:58</td>\n",
       "      <td>202</td>\n",
       "      <td>46</td>\n",
       "      <td>Female</td>\n",
       "      <td>City_13</td>\n",
       "      <td>22.0</td>\n",
       "      <td>False</td>\n",
       "      <td>892</td>\n",
       "      <td>Food_Product</td>\n",
       "      <td>Food</td>\n",
       "      <td>3</td>\n",
       "      <td>24.561093</td>\n",
       "      <td>73.683280</td>\n",
       "      <td>Cash</td>\n",
       "      <td>True</td>\n",
       "      <td>7.368328</td>\n",
       "      <td>True</td>\n",
       "      <td>NaN</td>\n",
       "      <td>NaN</td>\n",
       "      <td>Snowy</td>\n",
       "      <td>Black Friday</td>\n",
       "      <td>2</td>\n",
       "      <td>False</td>\n",
       "    </tr>\n",
       "    <tr>\n",
       "      <th>9998</th>\n",
       "      <td>9999</td>\n",
       "      <td>11/11/2020</td>\n",
       "      <td>11:33:17</td>\n",
       "      <td>310</td>\n",
       "      <td>64</td>\n",
       "      <td>Other</td>\n",
       "      <td>City_8</td>\n",
       "      <td>NaN</td>\n",
       "      <td>True</td>\n",
       "      <td>237</td>\n",
       "      <td>Electronics_Product</td>\n",
       "      <td>Electronics</td>\n",
       "      <td>3</td>\n",
       "      <td>20.334764</td>\n",
       "      <td>61.004291</td>\n",
       "      <td>Online Payment</td>\n",
       "      <td>True</td>\n",
       "      <td>0.000000</td>\n",
       "      <td>True</td>\n",
       "      <td>Express</td>\n",
       "      <td>1.0</td>\n",
       "      <td>Sunny</td>\n",
       "      <td>Christmas Market</td>\n",
       "      <td>1</td>\n",
       "      <td>False</td>\n",
       "    </tr>\n",
       "    <tr>\n",
       "      <th>9999</th>\n",
       "      <td>10000</td>\n",
       "      <td>11/16/2022</td>\n",
       "      <td>17:01:01</td>\n",
       "      <td>469</td>\n",
       "      <td>39</td>\n",
       "      <td>Female</td>\n",
       "      <td>City_15</td>\n",
       "      <td>NaN</td>\n",
       "      <td>True</td>\n",
       "      <td>490</td>\n",
       "      <td>Electronics_Product</td>\n",
       "      <td>Electronics</td>\n",
       "      <td>4</td>\n",
       "      <td>82.007183</td>\n",
       "      <td>328.028730</td>\n",
       "      <td>Cash</td>\n",
       "      <td>True</td>\n",
       "      <td>0.000000</td>\n",
       "      <td>True</td>\n",
       "      <td>Overnight</td>\n",
       "      <td>2.0</td>\n",
       "      <td>Snowy</td>\n",
       "      <td>Christmas Market</td>\n",
       "      <td>2</td>\n",
       "      <td>True</td>\n",
       "    </tr>\n",
       "  </tbody>\n",
       "</table>\n",
       "</div>"
      ],
      "text/plain": [
       "      TransactionID        Date      Time  CustomerID  Age  Gender Location  \\\n",
       "9995           9996  12/21/2022  12:05:06         245   25   Other  City_10   \n",
       "9996           9997  11/24/2022  17:28:29         295   46  Female  City_17   \n",
       "9997           9998   11/2/2021  23:20:58         202   46  Female  City_13   \n",
       "9998           9999  11/11/2020  11:33:17         310   64   Other   City_8   \n",
       "9999          10000  11/16/2022  17:01:01         469   39  Female  City_15   \n",
       "\n",
       "      StoreID  OnlineOrderFlag  ProductID          ProductName     Category  \\\n",
       "9995      NaN             True         54  Decorations_Product  Decorations   \n",
       "9996      NaN             True        324  Electronics_Product  Electronics   \n",
       "9997     22.0            False        892         Food_Product         Food   \n",
       "9998      NaN             True        237  Electronics_Product  Electronics   \n",
       "9999      NaN             True        490  Electronics_Product  Electronics   \n",
       "\n",
       "      Quantity  UnitPrice  TotalPrice     PaymentType  PromotionApplied  \\\n",
       "9995         1  91.072121   91.072121     Credit Card             False   \n",
       "9996         1  41.538590   41.538590      Debit Card              True   \n",
       "9997         3  24.561093   73.683280            Cash              True   \n",
       "9998         3  20.334764   61.004291  Online Payment              True   \n",
       "9999         4  82.007183  328.028730            Cash              True   \n",
       "\n",
       "      DiscountAmount  GiftWrap ShippingMethod  DeliveryTime Weather  \\\n",
       "9995        9.107212      True        Express           4.0   Sunny   \n",
       "9996        4.153859      True        Express           5.0   Rainy   \n",
       "9997        7.368328      True            NaN           NaN   Snowy   \n",
       "9998        0.000000      True        Express           1.0   Sunny   \n",
       "9999        0.000000      True      Overnight           2.0   Snowy   \n",
       "\n",
       "                 Event  CustomerSatisfaction  ReturnFlag  \n",
       "9995      Black Friday                     4       False  \n",
       "9996      Black Friday                     2        True  \n",
       "9997      Black Friday                     2       False  \n",
       "9998  Christmas Market                     1       False  \n",
       "9999  Christmas Market                     2        True  "
      ]
     },
     "execution_count": 6,
     "metadata": {},
     "output_type": "execute_result"
    }
   ],
   "source": [
    "# Check the last five rows of the data\n",
    "xmas.tail()"
   ]
  },
  {
   "cell_type": "code",
   "execution_count": 7,
   "id": "cd471850",
   "metadata": {
    "editable": false,
    "execution": {
     "iopub.execute_input": "2024-01-03T07:27:22.101600Z",
     "iopub.status.busy": "2024-01-03T07:27:22.100598Z",
     "iopub.status.idle": "2024-01-03T07:27:22.109165Z",
     "shell.execute_reply": "2024-01-03T07:27:22.107581Z"
    },
    "papermill": {
     "duration": 0.042139,
     "end_time": "2024-01-03T07:27:22.111509",
     "exception": false,
     "start_time": "2024-01-03T07:27:22.069370",
     "status": "completed"
    },
    "tags": []
   },
   "outputs": [
    {
     "data": {
      "text/plain": [
       "(10000, 25)"
      ]
     },
     "execution_count": 7,
     "metadata": {},
     "output_type": "execute_result"
    }
   ],
   "source": [
    "# Check the shape of the data\n",
    "xmas.shape"
   ]
  },
  {
   "cell_type": "markdown",
   "id": "2754c236",
   "metadata": {
    "editable": false,
    "papermill": {
     "duration": 0.031256,
     "end_time": "2024-01-03T07:27:22.173153",
     "exception": false,
     "start_time": "2024-01-03T07:27:22.141897",
     "status": "completed"
    },
    "tags": []
   },
   "source": [
    "## List the ful column names of the datasets\n"
   ]
  },
  {
   "cell_type": "code",
   "execution_count": 8,
   "id": "f89657d1",
   "metadata": {
    "editable": false,
    "execution": {
     "iopub.execute_input": "2024-01-03T07:27:22.236557Z",
     "iopub.status.busy": "2024-01-03T07:27:22.236103Z",
     "iopub.status.idle": "2024-01-03T07:27:22.243980Z",
     "shell.execute_reply": "2024-01-03T07:27:22.242657Z"
    },
    "papermill": {
     "duration": 0.041571,
     "end_time": "2024-01-03T07:27:22.246323",
     "exception": false,
     "start_time": "2024-01-03T07:27:22.204752",
     "status": "completed"
    },
    "tags": []
   },
   "outputs": [
    {
     "data": {
      "text/plain": [
       "['TransactionID',\n",
       " 'Date',\n",
       " 'Time',\n",
       " 'CustomerID',\n",
       " 'Age',\n",
       " 'Gender',\n",
       " 'Location',\n",
       " 'StoreID',\n",
       " 'OnlineOrderFlag',\n",
       " 'ProductID',\n",
       " 'ProductName',\n",
       " 'Category',\n",
       " 'Quantity',\n",
       " 'UnitPrice',\n",
       " 'TotalPrice',\n",
       " 'PaymentType',\n",
       " 'PromotionApplied',\n",
       " 'DiscountAmount',\n",
       " 'GiftWrap',\n",
       " 'ShippingMethod',\n",
       " 'DeliveryTime',\n",
       " 'Weather',\n",
       " 'Event',\n",
       " 'CustomerSatisfaction',\n",
       " 'ReturnFlag']"
      ]
     },
     "execution_count": 8,
     "metadata": {},
     "output_type": "execute_result"
    }
   ],
   "source": [
    "xmas.columns.values.tolist()"
   ]
  },
  {
   "cell_type": "markdown",
   "id": "f4028cec",
   "metadata": {
    "papermill": {
     "duration": 0.031026,
     "end_time": "2024-01-03T07:27:22.308737",
     "exception": false,
     "start_time": "2024-01-03T07:27:22.277711",
     "status": "completed"
    },
    "tags": []
   },
   "source": [
    "## Count of categories"
   ]
  },
  {
   "cell_type": "code",
   "execution_count": 9,
   "id": "c292c272",
   "metadata": {
    "execution": {
     "iopub.execute_input": "2024-01-03T07:27:22.371359Z",
     "iopub.status.busy": "2024-01-03T07:27:22.370954Z",
     "iopub.status.idle": "2024-01-03T07:27:22.379741Z",
     "shell.execute_reply": "2024-01-03T07:27:22.378622Z"
    },
    "papermill": {
     "duration": 0.042645,
     "end_time": "2024-01-03T07:27:22.382054",
     "exception": false,
     "start_time": "2024-01-03T07:27:22.339409",
     "status": "completed"
    },
    "tags": []
   },
   "outputs": [
    {
     "data": {
      "text/plain": [
       "5"
      ]
     },
     "execution_count": 9,
     "metadata": {},
     "output_type": "execute_result"
    }
   ],
   "source": [
    "xmas.Category.nunique()"
   ]
  },
  {
   "cell_type": "markdown",
   "id": "32c032a8",
   "metadata": {
    "papermill": {
     "duration": 0.029596,
     "end_time": "2024-01-03T07:27:22.441596",
     "exception": false,
     "start_time": "2024-01-03T07:27:22.412000",
     "status": "completed"
    },
    "tags": []
   },
   "source": [
    "* There are 5 unique categories in the data."
   ]
  },
  {
   "cell_type": "markdown",
   "id": "d1b65d2e",
   "metadata": {
    "editable": false,
    "papermill": {
     "duration": 0.029754,
     "end_time": "2024-01-03T07:27:22.501606",
     "exception": false,
     "start_time": "2024-01-03T07:27:22.471852",
     "status": "completed"
    },
    "tags": []
   },
   "source": [
    "## Data Cleaning and Preprocessing"
   ]
  },
  {
   "cell_type": "markdown",
   "id": "dd6ca6b1",
   "metadata": {
    "editable": false,
    "papermill": {
     "duration": 0.029461,
     "end_time": "2024-01-03T07:27:22.560940",
     "exception": false,
     "start_time": "2024-01-03T07:27:22.531479",
     "status": "completed"
    },
    "tags": []
   },
   "source": [
    "### Create a backup of the data"
   ]
  },
  {
   "cell_type": "code",
   "execution_count": 10,
   "id": "12e16653",
   "metadata": {
    "editable": false,
    "execution": {
     "iopub.execute_input": "2024-01-03T07:27:22.624041Z",
     "iopub.status.busy": "2024-01-03T07:27:22.623046Z",
     "iopub.status.idle": "2024-01-03T07:27:22.629676Z",
     "shell.execute_reply": "2024-01-03T07:27:22.628891Z"
    },
    "papermill": {
     "duration": 0.040795,
     "end_time": "2024-01-03T07:27:22.631938",
     "exception": false,
     "start_time": "2024-01-03T07:27:22.591143",
     "status": "completed"
    },
    "tags": []
   },
   "outputs": [],
   "source": [
    "df = xmas.copy()"
   ]
  },
  {
   "cell_type": "markdown",
   "id": "88ed0cd4",
   "metadata": {
    "editable": false,
    "papermill": {
     "duration": 0.030127,
     "end_time": "2024-01-03T07:27:22.693007",
     "exception": false,
     "start_time": "2024-01-03T07:27:22.662880",
     "status": "completed"
    },
    "tags": []
   },
   "source": [
    "### Check for duplicate values\n"
   ]
  },
  {
   "cell_type": "code",
   "execution_count": 11,
   "id": "99dea3e9",
   "metadata": {
    "editable": false,
    "execution": {
     "iopub.execute_input": "2024-01-03T07:27:22.756343Z",
     "iopub.status.busy": "2024-01-03T07:27:22.755593Z",
     "iopub.status.idle": "2024-01-03T07:27:22.789677Z",
     "shell.execute_reply": "2024-01-03T07:27:22.788365Z"
    },
    "papermill": {
     "duration": 0.06862,
     "end_time": "2024-01-03T07:27:22.792386",
     "exception": false,
     "start_time": "2024-01-03T07:27:22.723766",
     "status": "completed"
    },
    "tags": []
   },
   "outputs": [
    {
     "data": {
      "text/plain": [
       "0"
      ]
     },
     "execution_count": 11,
     "metadata": {},
     "output_type": "execute_result"
    }
   ],
   "source": [
    "sum(df.duplicated())"
   ]
  },
  {
   "cell_type": "markdown",
   "id": "0faef848",
   "metadata": {
    "editable": false,
    "papermill": {
     "duration": 0.030946,
     "end_time": "2024-01-03T07:27:22.854046",
     "exception": false,
     "start_time": "2024-01-03T07:27:22.823100",
     "status": "completed"
    },
    "tags": []
   },
   "source": [
    "* There are no duplicates present."
   ]
  },
  {
   "cell_type": "markdown",
   "id": "d94d44bb",
   "metadata": {
    "editable": false,
    "papermill": {
     "duration": 0.029982,
     "end_time": "2024-01-03T07:27:22.914552",
     "exception": false,
     "start_time": "2024-01-03T07:27:22.884570",
     "status": "completed"
    },
    "tags": []
   },
   "source": [
    "## Check for missing values"
   ]
  },
  {
   "cell_type": "code",
   "execution_count": 12,
   "id": "1dd7e8e3",
   "metadata": {
    "editable": false,
    "execution": {
     "iopub.execute_input": "2024-01-03T07:27:22.977947Z",
     "iopub.status.busy": "2024-01-03T07:27:22.977181Z",
     "iopub.status.idle": "2024-01-03T07:27:22.997662Z",
     "shell.execute_reply": "2024-01-03T07:27:22.996476Z"
    },
    "papermill": {
     "duration": 0.05536,
     "end_time": "2024-01-03T07:27:23.000257",
     "exception": false,
     "start_time": "2024-01-03T07:27:22.944897",
     "status": "completed"
    },
    "tags": []
   },
   "outputs": [
    {
     "data": {
      "text/plain": [
       "TransactionID              0\n",
       "Date                       0\n",
       "Time                       0\n",
       "CustomerID                 0\n",
       "Age                        0\n",
       "Gender                     0\n",
       "Location                   0\n",
       "StoreID                 5418\n",
       "OnlineOrderFlag            0\n",
       "ProductID                  0\n",
       "ProductName                0\n",
       "Category                   0\n",
       "Quantity                   0\n",
       "UnitPrice                  0\n",
       "TotalPrice                 0\n",
       "PaymentType                0\n",
       "PromotionApplied           0\n",
       "DiscountAmount             0\n",
       "GiftWrap                   0\n",
       "ShippingMethod          4582\n",
       "DeliveryTime            4582\n",
       "Weather                    0\n",
       "Event                   2838\n",
       "CustomerSatisfaction       0\n",
       "ReturnFlag                 0\n",
       "dtype: int64"
      ]
     },
     "execution_count": 12,
     "metadata": {},
     "output_type": "execute_result"
    }
   ],
   "source": [
    "df.isnull().sum()"
   ]
  },
  {
   "cell_type": "code",
   "execution_count": 13,
   "id": "07e6cd22",
   "metadata": {
    "editable": false,
    "execution": {
     "iopub.execute_input": "2024-01-03T07:27:23.063729Z",
     "iopub.status.busy": "2024-01-03T07:27:23.062927Z",
     "iopub.status.idle": "2024-01-03T07:27:23.085390Z",
     "shell.execute_reply": "2024-01-03T07:27:23.084192Z"
    },
    "papermill": {
     "duration": 0.057427,
     "end_time": "2024-01-03T07:27:23.087950",
     "exception": false,
     "start_time": "2024-01-03T07:27:23.030523",
     "status": "completed"
    },
    "tags": []
   },
   "outputs": [
    {
     "data": {
      "text/plain": [
       "TransactionID            0.00\n",
       "Date                     0.00\n",
       "Time                     0.00\n",
       "CustomerID               0.00\n",
       "Age                      0.00\n",
       "Gender                   0.00\n",
       "Location                 0.00\n",
       "StoreID                 54.18\n",
       "OnlineOrderFlag          0.00\n",
       "ProductID                0.00\n",
       "ProductName              0.00\n",
       "Category                 0.00\n",
       "Quantity                 0.00\n",
       "UnitPrice                0.00\n",
       "TotalPrice               0.00\n",
       "PaymentType              0.00\n",
       "PromotionApplied         0.00\n",
       "DiscountAmount           0.00\n",
       "GiftWrap                 0.00\n",
       "ShippingMethod          45.82\n",
       "DeliveryTime            45.82\n",
       "Weather                  0.00\n",
       "Event                   28.38\n",
       "CustomerSatisfaction     0.00\n",
       "ReturnFlag               0.00\n",
       "dtype: float64"
      ]
     },
     "execution_count": 13,
     "metadata": {},
     "output_type": "execute_result"
    }
   ],
   "source": [
    "# Express the missing values in the Data Frame as a percentage of the total number of rows\n",
    "df.isnull().sum()/len(df)*100"
   ]
  },
  {
   "cell_type": "markdown",
   "id": "4702e1e1",
   "metadata": {
    "editable": false,
    "papermill": {
     "duration": 0.029721,
     "end_time": "2024-01-03T07:27:23.147961",
     "exception": false,
     "start_time": "2024-01-03T07:27:23.118240",
     "status": "completed"
    },
    "tags": []
   },
   "source": [
    "* Columns such as StoreID, ShippingMethod, DeliveryTime, and Event have missing values."
   ]
  },
  {
   "cell_type": "markdown",
   "id": "e212fdc6",
   "metadata": {
    "papermill": {
     "duration": 0.030356,
     "end_time": "2024-01-03T07:27:23.209119",
     "exception": false,
     "start_time": "2024-01-03T07:27:23.178763",
     "status": "completed"
    },
    "tags": []
   },
   "source": [
    "## Check for complete values"
   ]
  },
  {
   "cell_type": "code",
   "execution_count": 14,
   "id": "6d9076f2",
   "metadata": {
    "execution": {
     "iopub.execute_input": "2024-01-03T07:27:23.286687Z",
     "iopub.status.busy": "2024-01-03T07:27:23.286146Z",
     "iopub.status.idle": "2024-01-03T07:27:23.307872Z",
     "shell.execute_reply": "2024-01-03T07:27:23.306359Z"
    },
    "papermill": {
     "duration": 0.064148,
     "end_time": "2024-01-03T07:27:23.310548",
     "exception": false,
     "start_time": "2024-01-03T07:27:23.246400",
     "status": "completed"
    },
    "tags": []
   },
   "outputs": [
    {
     "data": {
      "text/plain": [
       "TransactionID           10000\n",
       "Date                    10000\n",
       "Time                    10000\n",
       "CustomerID              10000\n",
       "Age                     10000\n",
       "Gender                  10000\n",
       "Location                10000\n",
       "StoreID                  4582\n",
       "OnlineOrderFlag         10000\n",
       "ProductID               10000\n",
       "ProductName             10000\n",
       "Category                10000\n",
       "Quantity                10000\n",
       "UnitPrice               10000\n",
       "TotalPrice              10000\n",
       "PaymentType             10000\n",
       "PromotionApplied        10000\n",
       "DiscountAmount          10000\n",
       "GiftWrap                10000\n",
       "ShippingMethod           5418\n",
       "DeliveryTime             5418\n",
       "Weather                 10000\n",
       "Event                    7162\n",
       "CustomerSatisfaction    10000\n",
       "ReturnFlag              10000\n",
       "dtype: int64"
      ]
     },
     "execution_count": 14,
     "metadata": {},
     "output_type": "execute_result"
    }
   ],
   "source": [
    "df.notnull().sum()"
   ]
  },
  {
   "cell_type": "markdown",
   "id": "03c83628",
   "metadata": {
    "editable": false,
    "papermill": {
     "duration": 0.030284,
     "end_time": "2024-01-03T07:27:23.371629",
     "exception": false,
     "start_time": "2024-01-03T07:27:23.341345",
     "status": "completed"
    },
    "tags": []
   },
   "source": [
    "### Remove unneeded columns"
   ]
  },
  {
   "cell_type": "code",
   "execution_count": 15,
   "id": "29eaf714",
   "metadata": {
    "execution": {
     "iopub.execute_input": "2024-01-03T07:27:23.449078Z",
     "iopub.status.busy": "2024-01-03T07:27:23.447962Z",
     "iopub.status.idle": "2024-01-03T07:27:23.461880Z",
     "shell.execute_reply": "2024-01-03T07:27:23.460315Z"
    },
    "papermill": {
     "duration": 0.058405,
     "end_time": "2024-01-03T07:27:23.466345",
     "exception": false,
     "start_time": "2024-01-03T07:27:23.407940",
     "status": "completed"
    },
    "tags": []
   },
   "outputs": [],
   "source": [
    "cols_to_remove = [\"StoreID\",\"TransactionID\",\"ProductID\"]\n",
    "df.drop(cols_to_remove,inplace = True, axis = 1)"
   ]
  },
  {
   "cell_type": "markdown",
   "id": "b3172a17",
   "metadata": {
    "papermill": {
     "duration": 0.037969,
     "end_time": "2024-01-03T07:27:23.549221",
     "exception": false,
     "start_time": "2024-01-03T07:27:23.511252",
     "status": "completed"
    },
    "tags": []
   },
   "source": [
    "## Deal with missing values"
   ]
  },
  {
   "cell_type": "code",
   "execution_count": 16,
   "id": "a0146d7c",
   "metadata": {
    "execution": {
     "iopub.execute_input": "2024-01-03T07:27:23.612249Z",
     "iopub.status.busy": "2024-01-03T07:27:23.611144Z",
     "iopub.status.idle": "2024-01-03T07:27:24.353609Z",
     "shell.execute_reply": "2024-01-03T07:27:24.352375Z"
    },
    "papermill": {
     "duration": 0.776924,
     "end_time": "2024-01-03T07:27:24.356403",
     "exception": false,
     "start_time": "2024-01-03T07:27:23.579479",
     "status": "completed"
    },
    "tags": []
   },
   "outputs": [
    {
     "data": {
      "image/png": "[encoded data removed]",
      "text/plain": [
       "<Figure size 1000x600 with 1 Axes>"
      ]
     },
     "metadata": {},
     "output_type": "display_data"
    }
   ],
   "source": [
    "# Visualise the missing value\n",
    "sns.heatmap(df.isnull(),cmap = 'viridis',cbar = False,\n",
    "           yticklabels = False);"
   ]
  },
  {
   "cell_type": "markdown",
   "id": "dd49f107",
   "metadata": {
    "papermill": {
     "duration": 0.030312,
     "end_time": "2024-01-03T07:27:24.417696",
     "exception": false,
     "start_time": "2024-01-03T07:27:24.387384",
     "status": "completed"
    },
    "tags": []
   },
   "source": [
    "## Replace missing values in the ShippingMethod and Event columns with 'unknown'"
   ]
  },
  {
   "cell_type": "code",
   "execution_count": 17,
   "id": "1b16407f",
   "metadata": {
    "execution": {
     "iopub.execute_input": "2024-01-03T07:27:24.480815Z",
     "iopub.status.busy": "2024-01-03T07:27:24.480411Z",
     "iopub.status.idle": "2024-01-03T07:27:24.489067Z",
     "shell.execute_reply": "2024-01-03T07:27:24.487777Z"
    },
    "papermill": {
     "duration": 0.043337,
     "end_time": "2024-01-03T07:27:24.491685",
     "exception": false,
     "start_time": "2024-01-03T07:27:24.448348",
     "status": "completed"
    },
    "tags": []
   },
   "outputs": [],
   "source": [
    "df['ShippingMethod'].replace(np.nan,\n",
    "                            'unknown', inplace = True)"
   ]
  },
  {
   "cell_type": "code",
   "execution_count": 18,
   "id": "df254663",
   "metadata": {
    "execution": {
     "iopub.execute_input": "2024-01-03T07:27:24.556821Z",
     "iopub.status.busy": "2024-01-03T07:27:24.556036Z",
     "iopub.status.idle": "2024-01-03T07:27:24.564153Z",
     "shell.execute_reply": "2024-01-03T07:27:24.563173Z"
    },
    "papermill": {
     "duration": 0.043749,
     "end_time": "2024-01-03T07:27:24.566744",
     "exception": false,
     "start_time": "2024-01-03T07:27:24.522995",
     "status": "completed"
    },
    "tags": []
   },
   "outputs": [],
   "source": [
    "df['Event'].replace(np.nan,\n",
    "                            'unknown', inplace = True)"
   ]
  },
  {
   "cell_type": "markdown",
   "id": "6cf39da4",
   "metadata": {
    "papermill": {
     "duration": 0.030887,
     "end_time": "2024-01-03T07:27:24.628856",
     "exception": false,
     "start_time": "2024-01-03T07:27:24.597969",
     "status": "completed"
    },
    "tags": []
   },
   "source": [
    "## Replace missing values in the DeliveryTime column with zero"
   ]
  },
  {
   "cell_type": "code",
   "execution_count": 19,
   "id": "bcd2cc5a",
   "metadata": {
    "execution": {
     "iopub.execute_input": "2024-01-03T07:27:24.693346Z",
     "iopub.status.busy": "2024-01-03T07:27:24.692911Z",
     "iopub.status.idle": "2024-01-03T07:27:24.699005Z",
     "shell.execute_reply": "2024-01-03T07:27:24.697881Z"
    },
    "papermill": {
     "duration": 0.041273,
     "end_time": "2024-01-03T07:27:24.701212",
     "exception": false,
     "start_time": "2024-01-03T07:27:24.659939",
     "status": "completed"
    },
    "tags": []
   },
   "outputs": [],
   "source": [
    "df['DeliveryTime'].fillna(0,inplace = True)"
   ]
  },
  {
   "cell_type": "code",
   "execution_count": 20,
   "id": "0a027265",
   "metadata": {
    "execution": {
     "iopub.execute_input": "2024-01-03T07:27:24.765906Z",
     "iopub.status.busy": "2024-01-03T07:27:24.765226Z",
     "iopub.status.idle": "2024-01-03T07:27:24.785844Z",
     "shell.execute_reply": "2024-01-03T07:27:24.784489Z"
    },
    "papermill": {
     "duration": 0.056083,
     "end_time": "2024-01-03T07:27:24.788563",
     "exception": false,
     "start_time": "2024-01-03T07:27:24.732480",
     "status": "completed"
    },
    "tags": []
   },
   "outputs": [
    {
     "data": {
      "text/plain": [
       "Date                    0\n",
       "Time                    0\n",
       "CustomerID              0\n",
       "Age                     0\n",
       "Gender                  0\n",
       "Location                0\n",
       "OnlineOrderFlag         0\n",
       "ProductName             0\n",
       "Category                0\n",
       "Quantity                0\n",
       "UnitPrice               0\n",
       "TotalPrice              0\n",
       "PaymentType             0\n",
       "PromotionApplied        0\n",
       "DiscountAmount          0\n",
       "GiftWrap                0\n",
       "ShippingMethod          0\n",
       "DeliveryTime            0\n",
       "Weather                 0\n",
       "Event                   0\n",
       "CustomerSatisfaction    0\n",
       "ReturnFlag              0\n",
       "dtype: int64"
      ]
     },
     "execution_count": 20,
     "metadata": {},
     "output_type": "execute_result"
    }
   ],
   "source": [
    "# Check the columns for missing values again\n",
    "df.isnull().sum()"
   ]
  },
  {
   "cell_type": "markdown",
   "id": "0a09ac6b",
   "metadata": {
    "papermill": {
     "duration": 0.031915,
     "end_time": "2024-01-03T07:27:24.851574",
     "exception": false,
     "start_time": "2024-01-03T07:27:24.819659",
     "status": "completed"
    },
    "tags": []
   },
   "source": [
    "## Create a datetime column by merging the Date and Time columns"
   ]
  },
  {
   "cell_type": "code",
   "execution_count": 21,
   "id": "7d0fe782",
   "metadata": {
    "execution": {
     "iopub.execute_input": "2024-01-03T07:27:24.917021Z",
     "iopub.status.busy": "2024-01-03T07:27:24.916629Z",
     "iopub.status.idle": "2024-01-03T07:27:24.927407Z",
     "shell.execute_reply": "2024-01-03T07:27:24.925991Z"
    },
    "papermill": {
     "duration": 0.047041,
     "end_time": "2024-01-03T07:27:24.930169",
     "exception": false,
     "start_time": "2024-01-03T07:27:24.883128",
     "status": "completed"
    },
    "tags": []
   },
   "outputs": [],
   "source": [
    "df['DateTime'] = df.Date + ' '+ df.Time"
   ]
  },
  {
   "cell_type": "code",
   "execution_count": 22,
   "id": "f5724bf9",
   "metadata": {
    "execution": {
     "iopub.execute_input": "2024-01-03T07:27:24.996270Z",
     "iopub.status.busy": "2024-01-03T07:27:24.995533Z",
     "iopub.status.idle": "2024-01-03T07:27:25.000168Z",
     "shell.execute_reply": "2024-01-03T07:27:24.998887Z"
    },
    "papermill": {
     "duration": 0.040208,
     "end_time": "2024-01-03T07:27:25.002789",
     "exception": false,
     "start_time": "2024-01-03T07:27:24.962581",
     "status": "completed"
    },
    "tags": []
   },
   "outputs": [],
   "source": [
    "#df.DateTime = df.DateTime.apply(lambda x: datetime.datetime.strptime(x, '%m/%d/%y %H:%M:%S'))"
   ]
  },
  {
   "cell_type": "markdown",
   "id": "2ecdc9f1",
   "metadata": {
    "editable": false,
    "papermill": {
     "duration": 0.031652,
     "end_time": "2024-01-03T07:27:25.066662",
     "exception": false,
     "start_time": "2024-01-03T07:27:25.035010",
     "status": "completed"
    },
    "tags": []
   },
   "source": [
    "### Split the date and time columns into separate columns"
   ]
  },
  {
   "cell_type": "code",
   "execution_count": 23,
   "id": "12b6e707",
   "metadata": {
    "editable": false,
    "execution": {
     "iopub.execute_input": "2024-01-03T07:27:25.132072Z",
     "iopub.status.busy": "2024-01-03T07:27:25.131644Z",
     "iopub.status.idle": "2024-01-03T07:27:25.160785Z",
     "shell.execute_reply": "2024-01-03T07:27:25.159510Z"
    },
    "papermill": {
     "duration": 0.06521,
     "end_time": "2024-01-03T07:27:25.163603",
     "exception": false,
     "start_time": "2024-01-03T07:27:25.098393",
     "status": "completed"
    },
    "tags": []
   },
   "outputs": [],
   "source": [
    "df[[\"Day\",\"Month\",\"Year\"]] = df[\"Date\"].str.split('/',expand = True)"
   ]
  },
  {
   "cell_type": "code",
   "execution_count": 24,
   "id": "4c913089",
   "metadata": {
    "editable": false,
    "execution": {
     "iopub.execute_input": "2024-01-03T07:27:25.230392Z",
     "iopub.status.busy": "2024-01-03T07:27:25.229980Z",
     "iopub.status.idle": "2024-01-03T07:27:25.259953Z",
     "shell.execute_reply": "2024-01-03T07:27:25.258746Z"
    },
    "papermill": {
     "duration": 0.066818,
     "end_time": "2024-01-03T07:27:25.263312",
     "exception": false,
     "start_time": "2024-01-03T07:27:25.196494",
     "status": "completed"
    },
    "tags": []
   },
   "outputs": [],
   "source": [
    "df[[\"Hour\",\"Minute\",\"Second\"]] = df[\"Time\"].str.split(':',expand = True)"
   ]
  },
  {
   "cell_type": "markdown",
   "id": "2153e2f8",
   "metadata": {
    "papermill": {
     "duration": 0.031344,
     "end_time": "2024-01-03T07:27:25.328390",
     "exception": false,
     "start_time": "2024-01-03T07:27:25.297046",
     "status": "completed"
    },
    "tags": []
   },
   "source": [
    "## Rename the TotalPrice columns as TotalRevenue"
   ]
  },
  {
   "cell_type": "code",
   "execution_count": 25,
   "id": "aa8135ce",
   "metadata": {
    "execution": {
     "iopub.execute_input": "2024-01-03T07:27:25.394211Z",
     "iopub.status.busy": "2024-01-03T07:27:25.393066Z",
     "iopub.status.idle": "2024-01-03T07:27:25.398750Z",
     "shell.execute_reply": "2024-01-03T07:27:25.397812Z"
    },
    "papermill": {
     "duration": 0.041063,
     "end_time": "2024-01-03T07:27:25.401031",
     "exception": false,
     "start_time": "2024-01-03T07:27:25.359968",
     "status": "completed"
    },
    "tags": []
   },
   "outputs": [],
   "source": [
    "df.rename({'TotalPrice':'TotalRevenue'},axis =1,\n",
    "         inplace =True)"
   ]
  },
  {
   "cell_type": "code",
   "execution_count": 26,
   "id": "f07e98c5",
   "metadata": {
    "editable": false,
    "execution": {
     "iopub.execute_input": "2024-01-03T07:27:25.468032Z",
     "iopub.status.busy": "2024-01-03T07:27:25.467111Z",
     "iopub.status.idle": "2024-01-03T07:27:25.500053Z",
     "shell.execute_reply": "2024-01-03T07:27:25.498837Z"
    },
    "papermill": {
     "duration": 0.069249,
     "end_time": "2024-01-03T07:27:25.502566",
     "exception": false,
     "start_time": "2024-01-03T07:27:25.433317",
     "status": "completed"
    },
    "tags": []
   },
   "outputs": [
    {
     "data": {
      "text/html": [
       "<div>\n",
       "<style scoped>\n",
       "    .dataframe tbody tr th:only-of-type {\n",
       "        vertical-align: middle;\n",
       "    }\n",
       "\n",
       "    .dataframe tbody tr th {\n",
       "        vertical-align: top;\n",
       "    }\n",
       "\n",
       "    .dataframe thead th {\n",
       "        text-align: right;\n",
       "    }\n",
       "</style>\n",
       "<table border=\"1\" class=\"dataframe\">\n",
       "  <thead>\n",
       "    <tr style=\"text-align: right;\">\n",
       "      <th></th>\n",
       "      <th>Date</th>\n",
       "      <th>Time</th>\n",
       "      <th>CustomerID</th>\n",
       "      <th>Age</th>\n",
       "      <th>Gender</th>\n",
       "      <th>Location</th>\n",
       "      <th>OnlineOrderFlag</th>\n",
       "      <th>ProductName</th>\n",
       "      <th>Category</th>\n",
       "      <th>Quantity</th>\n",
       "      <th>UnitPrice</th>\n",
       "      <th>TotalRevenue</th>\n",
       "      <th>PaymentType</th>\n",
       "      <th>PromotionApplied</th>\n",
       "      <th>DiscountAmount</th>\n",
       "      <th>GiftWrap</th>\n",
       "      <th>ShippingMethod</th>\n",
       "      <th>DeliveryTime</th>\n",
       "      <th>Weather</th>\n",
       "      <th>Event</th>\n",
       "      <th>CustomerSatisfaction</th>\n",
       "      <th>ReturnFlag</th>\n",
       "      <th>DateTime</th>\n",
       "      <th>Day</th>\n",
       "      <th>Month</th>\n",
       "      <th>Year</th>\n",
       "      <th>Hour</th>\n",
       "      <th>Minute</th>\n",
       "      <th>Second</th>\n",
       "    </tr>\n",
       "  </thead>\n",
       "  <tbody>\n",
       "    <tr>\n",
       "      <th>0</th>\n",
       "      <td>12/24/2020</td>\n",
       "      <td>7:27:59</td>\n",
       "      <td>441</td>\n",
       "      <td>27</td>\n",
       "      <td>Other</td>\n",
       "      <td>City_15</td>\n",
       "      <td>True</td>\n",
       "      <td>Toys_Product</td>\n",
       "      <td>Toys</td>\n",
       "      <td>5</td>\n",
       "      <td>96.786255</td>\n",
       "      <td>483.931273</td>\n",
       "      <td>Credit Card</td>\n",
       "      <td>False</td>\n",
       "      <td>0.000000</td>\n",
       "      <td>False</td>\n",
       "      <td>Standard</td>\n",
       "      <td>5.0</td>\n",
       "      <td>Snowy</td>\n",
       "      <td>unknown</td>\n",
       "      <td>5</td>\n",
       "      <td>False</td>\n",
       "      <td>12/24/2020 7:27:59</td>\n",
       "      <td>12</td>\n",
       "      <td>24</td>\n",
       "      <td>2020</td>\n",
       "      <td>7</td>\n",
       "      <td>27</td>\n",
       "      <td>59</td>\n",
       "    </tr>\n",
       "    <tr>\n",
       "      <th>1</th>\n",
       "      <td>11/18/2022</td>\n",
       "      <td>14:36:39</td>\n",
       "      <td>340</td>\n",
       "      <td>43</td>\n",
       "      <td>Male</td>\n",
       "      <td>City_13</td>\n",
       "      <td>True</td>\n",
       "      <td>Clothing_Product</td>\n",
       "      <td>Clothing</td>\n",
       "      <td>1</td>\n",
       "      <td>95.279579</td>\n",
       "      <td>95.279579</td>\n",
       "      <td>Credit Card</td>\n",
       "      <td>True</td>\n",
       "      <td>0.000000</td>\n",
       "      <td>True</td>\n",
       "      <td>Express</td>\n",
       "      <td>3.0</td>\n",
       "      <td>Sunny</td>\n",
       "      <td>unknown</td>\n",
       "      <td>2</td>\n",
       "      <td>True</td>\n",
       "      <td>11/18/2022 14:36:39</td>\n",
       "      <td>11</td>\n",
       "      <td>18</td>\n",
       "      <td>2022</td>\n",
       "      <td>14</td>\n",
       "      <td>36</td>\n",
       "      <td>39</td>\n",
       "    </tr>\n",
       "    <tr>\n",
       "      <th>2</th>\n",
       "      <td>12/26/2019</td>\n",
       "      <td>20:23:50</td>\n",
       "      <td>31</td>\n",
       "      <td>25</td>\n",
       "      <td>Other</td>\n",
       "      <td>City_7</td>\n",
       "      <td>False</td>\n",
       "      <td>Clothing_Product</td>\n",
       "      <td>Clothing</td>\n",
       "      <td>2</td>\n",
       "      <td>52.371645</td>\n",
       "      <td>104.743291</td>\n",
       "      <td>Credit Card</td>\n",
       "      <td>False</td>\n",
       "      <td>0.000000</td>\n",
       "      <td>False</td>\n",
       "      <td>unknown</td>\n",
       "      <td>0.0</td>\n",
       "      <td>Rainy</td>\n",
       "      <td>Christmas Market</td>\n",
       "      <td>4</td>\n",
       "      <td>False</td>\n",
       "      <td>12/26/2019 20:23:50</td>\n",
       "      <td>12</td>\n",
       "      <td>26</td>\n",
       "      <td>2019</td>\n",
       "      <td>20</td>\n",
       "      <td>23</td>\n",
       "      <td>50</td>\n",
       "    </tr>\n",
       "    <tr>\n",
       "      <th>3</th>\n",
       "      <td>11/13/2018</td>\n",
       "      <td>23:08:08</td>\n",
       "      <td>39</td>\n",
       "      <td>64</td>\n",
       "      <td>Male</td>\n",
       "      <td>City_20</td>\n",
       "      <td>False</td>\n",
       "      <td>Toys_Product</td>\n",
       "      <td>Toys</td>\n",
       "      <td>5</td>\n",
       "      <td>63.647293</td>\n",
       "      <td>318.236463</td>\n",
       "      <td>Debit Card</td>\n",
       "      <td>False</td>\n",
       "      <td>0.000000</td>\n",
       "      <td>True</td>\n",
       "      <td>unknown</td>\n",
       "      <td>0.0</td>\n",
       "      <td>Rainy</td>\n",
       "      <td>unknown</td>\n",
       "      <td>1</td>\n",
       "      <td>True</td>\n",
       "      <td>11/13/2018 23:08:08</td>\n",
       "      <td>11</td>\n",
       "      <td>13</td>\n",
       "      <td>2018</td>\n",
       "      <td>23</td>\n",
       "      <td>08</td>\n",
       "      <td>08</td>\n",
       "    </tr>\n",
       "    <tr>\n",
       "      <th>4</th>\n",
       "      <td>12/13/2020</td>\n",
       "      <td>4:38:08</td>\n",
       "      <td>344</td>\n",
       "      <td>26</td>\n",
       "      <td>Other</td>\n",
       "      <td>City_10</td>\n",
       "      <td>False</td>\n",
       "      <td>Toys_Product</td>\n",
       "      <td>Toys</td>\n",
       "      <td>3</td>\n",
       "      <td>57.384041</td>\n",
       "      <td>172.152122</td>\n",
       "      <td>Cash</td>\n",
       "      <td>False</td>\n",
       "      <td>0.000000</td>\n",
       "      <td>True</td>\n",
       "      <td>unknown</td>\n",
       "      <td>0.0</td>\n",
       "      <td>Sunny</td>\n",
       "      <td>Christmas Market</td>\n",
       "      <td>4</td>\n",
       "      <td>False</td>\n",
       "      <td>12/13/2020 4:38:08</td>\n",
       "      <td>12</td>\n",
       "      <td>13</td>\n",
       "      <td>2020</td>\n",
       "      <td>4</td>\n",
       "      <td>38</td>\n",
       "      <td>08</td>\n",
       "    </tr>\n",
       "    <tr>\n",
       "      <th>5</th>\n",
       "      <td>11/26/2018</td>\n",
       "      <td>3:17:17</td>\n",
       "      <td>307</td>\n",
       "      <td>18</td>\n",
       "      <td>Male</td>\n",
       "      <td>City_4</td>\n",
       "      <td>False</td>\n",
       "      <td>Decorations_Product</td>\n",
       "      <td>Decorations</td>\n",
       "      <td>1</td>\n",
       "      <td>81.058986</td>\n",
       "      <td>81.058986</td>\n",
       "      <td>Online Payment</td>\n",
       "      <td>True</td>\n",
       "      <td>8.105899</td>\n",
       "      <td>True</td>\n",
       "      <td>unknown</td>\n",
       "      <td>0.0</td>\n",
       "      <td>Rainy</td>\n",
       "      <td>Black Friday</td>\n",
       "      <td>3</td>\n",
       "      <td>True</td>\n",
       "      <td>11/26/2018 3:17:17</td>\n",
       "      <td>11</td>\n",
       "      <td>26</td>\n",
       "      <td>2018</td>\n",
       "      <td>3</td>\n",
       "      <td>17</td>\n",
       "      <td>17</td>\n",
       "    </tr>\n",
       "    <tr>\n",
       "      <th>6</th>\n",
       "      <td>12/8/2020</td>\n",
       "      <td>8:26:56</td>\n",
       "      <td>368</td>\n",
       "      <td>63</td>\n",
       "      <td>Female</td>\n",
       "      <td>City_3</td>\n",
       "      <td>True</td>\n",
       "      <td>Food_Product</td>\n",
       "      <td>Food</td>\n",
       "      <td>3</td>\n",
       "      <td>48.157542</td>\n",
       "      <td>144.472627</td>\n",
       "      <td>Online Payment</td>\n",
       "      <td>False</td>\n",
       "      <td>0.000000</td>\n",
       "      <td>True</td>\n",
       "      <td>Express</td>\n",
       "      <td>2.0</td>\n",
       "      <td>Sunny</td>\n",
       "      <td>Christmas Market</td>\n",
       "      <td>3</td>\n",
       "      <td>True</td>\n",
       "      <td>12/8/2020 8:26:56</td>\n",
       "      <td>12</td>\n",
       "      <td>8</td>\n",
       "      <td>2020</td>\n",
       "      <td>8</td>\n",
       "      <td>26</td>\n",
       "      <td>56</td>\n",
       "    </tr>\n",
       "  </tbody>\n",
       "</table>\n",
       "</div>"
      ],
      "text/plain": [
       "         Date      Time  CustomerID  Age  Gender Location  OnlineOrderFlag  \\\n",
       "0  12/24/2020   7:27:59         441   27   Other  City_15             True   \n",
       "1  11/18/2022  14:36:39         340   43    Male  City_13             True   \n",
       "2  12/26/2019  20:23:50          31   25   Other   City_7            False   \n",
       "3  11/13/2018  23:08:08          39   64    Male  City_20            False   \n",
       "4  12/13/2020   4:38:08         344   26   Other  City_10            False   \n",
       "5  11/26/2018   3:17:17         307   18    Male   City_4            False   \n",
       "6   12/8/2020   8:26:56         368   63  Female   City_3             True   \n",
       "\n",
       "           ProductName     Category  Quantity  UnitPrice  TotalRevenue  \\\n",
       "0         Toys_Product         Toys         5  96.786255    483.931273   \n",
       "1     Clothing_Product     Clothing         1  95.279579     95.279579   \n",
       "2     Clothing_Product     Clothing         2  52.371645    104.743291   \n",
       "3         Toys_Product         Toys         5  63.647293    318.236463   \n",
       "4         Toys_Product         Toys         3  57.384041    172.152122   \n",
       "5  Decorations_Product  Decorations         1  81.058986     81.058986   \n",
       "6         Food_Product         Food         3  48.157542    144.472627   \n",
       "\n",
       "      PaymentType  PromotionApplied  DiscountAmount  GiftWrap ShippingMethod  \\\n",
       "0     Credit Card             False        0.000000     False       Standard   \n",
       "1     Credit Card              True        0.000000      True        Express   \n",
       "2     Credit Card             False        0.000000     False        unknown   \n",
       "3      Debit Card             False        0.000000      True        unknown   \n",
       "4            Cash             False        0.000000      True        unknown   \n",
       "5  Online Payment              True        8.105899      True        unknown   \n",
       "6  Online Payment             False        0.000000      True        Express   \n",
       "\n",
       "   DeliveryTime Weather             Event  CustomerSatisfaction  ReturnFlag  \\\n",
       "0           5.0   Snowy           unknown                     5       False   \n",
       "1           3.0   Sunny           unknown                     2        True   \n",
       "2           0.0   Rainy  Christmas Market                     4       False   \n",
       "3           0.0   Rainy           unknown                     1        True   \n",
       "4           0.0   Sunny  Christmas Market                     4       False   \n",
       "5           0.0   Rainy      Black Friday                     3        True   \n",
       "6           2.0   Sunny  Christmas Market                     3        True   \n",
       "\n",
       "              DateTime Day Month  Year Hour Minute Second  \n",
       "0   12/24/2020 7:27:59  12    24  2020    7     27     59  \n",
       "1  11/18/2022 14:36:39  11    18  2022   14     36     39  \n",
       "2  12/26/2019 20:23:50  12    26  2019   20     23     50  \n",
       "3  11/13/2018 23:08:08  11    13  2018   23     08     08  \n",
       "4   12/13/2020 4:38:08  12    13  2020    4     38     08  \n",
       "5   11/26/2018 3:17:17  11    26  2018    3     17     17  \n",
       "6    12/8/2020 8:26:56  12     8  2020    8     26     56  "
      ]
     },
     "execution_count": 26,
     "metadata": {},
     "output_type": "execute_result"
    }
   ],
   "source": [
    "# Check the data after the splitting is done\n",
    "df.head(7)"
   ]
  },
  {
   "cell_type": "markdown",
   "id": "00d45755",
   "metadata": {
    "papermill": {
     "duration": 0.031177,
     "end_time": "2024-01-03T07:27:25.565519",
     "exception": false,
     "start_time": "2024-01-03T07:27:25.534342",
     "status": "completed"
    },
    "tags": []
   },
   "source": [
    "# Some Data Wrangling"
   ]
  },
  {
   "cell_type": "markdown",
   "id": "d2ae2b26",
   "metadata": {
    "papermill": {
     "duration": 0.031444,
     "end_time": "2024-01-03T07:27:25.628593",
     "exception": false,
     "start_time": "2024-01-03T07:27:25.597149",
     "status": "completed"
    },
    "tags": []
   },
   "source": [
    "## Data subsetting"
   ]
  },
  {
   "cell_type": "code",
   "execution_count": 27,
   "id": "a608cce6",
   "metadata": {
    "execution": {
     "iopub.execute_input": "2024-01-03T07:27:25.693703Z",
     "iopub.status.busy": "2024-01-03T07:27:25.693200Z",
     "iopub.status.idle": "2024-01-03T07:27:25.702349Z",
     "shell.execute_reply": "2024-01-03T07:27:25.701198Z"
    },
    "papermill": {
     "duration": 0.044666,
     "end_time": "2024-01-03T07:27:25.704668",
     "exception": false,
     "start_time": "2024-01-03T07:27:25.660002",
     "status": "completed"
    },
    "tags": []
   },
   "outputs": [],
   "source": [
    "# Create a Data Frame for 2020 transactions\n",
    "df_2020 = df[df[\"Year\"]==2020]\n"
   ]
  },
  {
   "cell_type": "code",
   "execution_count": 28,
   "id": "9179d427",
   "metadata": {
    "execution": {
     "iopub.execute_input": "2024-01-03T07:27:25.771912Z",
     "iopub.status.busy": "2024-01-03T07:27:25.771073Z",
     "iopub.status.idle": "2024-01-03T07:27:25.780145Z",
     "shell.execute_reply": "2024-01-03T07:27:25.778942Z"
    },
    "papermill": {
     "duration": 0.045173,
     "end_time": "2024-01-03T07:27:25.782632",
     "exception": false,
     "start_time": "2024-01-03T07:27:25.737459",
     "status": "completed"
    },
    "tags": []
   },
   "outputs": [],
   "source": [
    "# Create a Data Frame for 2021 transactions\n",
    "df_2021 = df[df[\"Year\"]==2021]\n"
   ]
  },
  {
   "cell_type": "code",
   "execution_count": 29,
   "id": "bff7a4ca",
   "metadata": {
    "execution": {
     "iopub.execute_input": "2024-01-03T07:27:25.848269Z",
     "iopub.status.busy": "2024-01-03T07:27:25.847744Z",
     "iopub.status.idle": "2024-01-03T07:27:25.856625Z",
     "shell.execute_reply": "2024-01-03T07:27:25.855514Z"
    },
    "papermill": {
     "duration": 0.044525,
     "end_time": "2024-01-03T07:27:25.858887",
     "exception": false,
     "start_time": "2024-01-03T07:27:25.814362",
     "status": "completed"
    },
    "tags": []
   },
   "outputs": [],
   "source": [
    "# Create a Data Frame for 2022 transactions\n",
    "df_2022 = df[df[\"Year\"]==2022]\n"
   ]
  },
  {
   "cell_type": "code",
   "execution_count": 30,
   "id": "b2f5bcf5",
   "metadata": {
    "execution": {
     "iopub.execute_input": "2024-01-03T07:27:25.925650Z",
     "iopub.status.busy": "2024-01-03T07:27:25.925151Z",
     "iopub.status.idle": "2024-01-03T07:27:25.933819Z",
     "shell.execute_reply": "2024-01-03T07:27:25.932607Z"
    },
    "papermill": {
     "duration": 0.044867,
     "end_time": "2024-01-03T07:27:25.936221",
     "exception": false,
     "start_time": "2024-01-03T07:27:25.891354",
     "status": "completed"
    },
    "tags": []
   },
   "outputs": [],
   "source": [
    "# Create a Data Frame for 2023 transactions\n",
    "df_2023 = df[df[\"Year\"]==2023]\n"
   ]
  },
  {
   "cell_type": "code",
   "execution_count": 31,
   "id": "de2b377e",
   "metadata": {
    "execution": {
     "iopub.execute_input": "2024-01-03T07:27:26.001856Z",
     "iopub.status.busy": "2024-01-03T07:27:26.001370Z",
     "iopub.status.idle": "2024-01-03T07:27:26.013308Z",
     "shell.execute_reply": "2024-01-03T07:27:26.012136Z"
    },
    "papermill": {
     "duration": 0.047574,
     "end_time": "2024-01-03T07:27:26.015709",
     "exception": false,
     "start_time": "2024-01-03T07:27:25.968135",
     "status": "completed"
    },
    "tags": []
   },
   "outputs": [],
   "source": [
    "# Create a Data Frame for Xmas day of 2020 transactions\n",
    "xmas_2020 = df[(df['Year']==2020)&(df['Day']==25)]\n",
    "#xmas_2020 = df.loc[(df['Year']=2020)&(df['Day']=25)]"
   ]
  },
  {
   "cell_type": "code",
   "execution_count": 32,
   "id": "bf101fea",
   "metadata": {
    "execution": {
     "iopub.execute_input": "2024-01-03T07:27:26.081522Z",
     "iopub.status.busy": "2024-01-03T07:27:26.080994Z",
     "iopub.status.idle": "2024-01-03T07:27:26.092711Z",
     "shell.execute_reply": "2024-01-03T07:27:26.091740Z"
    },
    "papermill": {
     "duration": 0.047017,
     "end_time": "2024-01-03T07:27:26.094874",
     "exception": false,
     "start_time": "2024-01-03T07:27:26.047857",
     "status": "completed"
    },
    "tags": []
   },
   "outputs": [],
   "source": [
    "# Create a Data Frame for Xmas day of 2021 transactions\n",
    "xmas_2021 = df[(df['Year']==2021)&(df['Day']==25)]"
   ]
  },
  {
   "cell_type": "code",
   "execution_count": 33,
   "id": "f39bb7ff",
   "metadata": {
    "execution": {
     "iopub.execute_input": "2024-01-03T07:27:26.159701Z",
     "iopub.status.busy": "2024-01-03T07:27:26.159166Z",
     "iopub.status.idle": "2024-01-03T07:27:26.171321Z",
     "shell.execute_reply": "2024-01-03T07:27:26.170102Z"
    },
    "papermill": {
     "duration": 0.047373,
     "end_time": "2024-01-03T07:27:26.173721",
     "exception": false,
     "start_time": "2024-01-03T07:27:26.126348",
     "status": "completed"
    },
    "tags": []
   },
   "outputs": [],
   "source": [
    "# Create a Data Frame for Xmas day of 2022 transactions\n",
    "xmas_2022 = df[(df['Year']==2022)&(df['Day']==25)]"
   ]
  },
  {
   "cell_type": "markdown",
   "id": "c43094c2",
   "metadata": {
    "papermill": {
     "duration": 0.032658,
     "end_time": "2024-01-03T07:27:26.239020",
     "exception": false,
     "start_time": "2024-01-03T07:27:26.206362",
     "status": "completed"
    },
    "tags": []
   },
   "source": [
    "## Value Counts: Number of unique values in a categorical column"
   ]
  },
  {
   "cell_type": "code",
   "execution_count": 34,
   "id": "30c97e43",
   "metadata": {
    "execution": {
     "iopub.execute_input": "2024-01-03T07:27:26.309629Z",
     "iopub.status.busy": "2024-01-03T07:27:26.309121Z",
     "iopub.status.idle": "2024-01-03T07:27:26.319651Z",
     "shell.execute_reply": "2024-01-03T07:27:26.318728Z"
    },
    "papermill": {
     "duration": 0.047333,
     "end_time": "2024-01-03T07:27:26.321875",
     "exception": false,
     "start_time": "2024-01-03T07:27:26.274542",
     "status": "completed"
    },
    "tags": []
   },
   "outputs": [
    {
     "data": {
      "text/plain": [
       "Gender\n",
       "Male      3385\n",
       "Other     3317\n",
       "Female    3298\n",
       "Name: count, dtype: int64"
      ]
     },
     "execution_count": 34,
     "metadata": {},
     "output_type": "execute_result"
    }
   ],
   "source": [
    "# Value count of Gender\n",
    "gender_value_counts = df.Gender.value_counts()\n",
    "gender_value_counts"
   ]
  },
  {
   "cell_type": "code",
   "execution_count": 35,
   "id": "1faccaa1",
   "metadata": {
    "execution": {
     "iopub.execute_input": "2024-01-03T07:27:26.389610Z",
     "iopub.status.busy": "2024-01-03T07:27:26.389177Z",
     "iopub.status.idle": "2024-01-03T07:27:26.399868Z",
     "shell.execute_reply": "2024-01-03T07:27:26.398827Z"
    },
    "papermill": {
     "duration": 0.047413,
     "end_time": "2024-01-03T07:27:26.402232",
     "exception": false,
     "start_time": "2024-01-03T07:27:26.354819",
     "status": "completed"
    },
    "tags": []
   },
   "outputs": [
    {
     "data": {
      "text/plain": [
       "Location\n",
       "City_13    550\n",
       "City_12    517\n",
       "City_18    516\n",
       "City_1     516\n",
       "City_14    515\n",
       "City_4     512\n",
       "City_3     511\n",
       "City_8     508\n",
       "City_19    508\n",
       "City_15    505\n",
       "City_6     503\n",
       "City_11    499\n",
       "City_2     499\n",
       "City_5     497\n",
       "City_20    492\n",
       "City_9     487\n",
       "City_16    480\n",
       "City_10    479\n",
       "City_7     458\n",
       "City_17    448\n",
       "Name: count, dtype: int64"
      ]
     },
     "execution_count": 35,
     "metadata": {},
     "output_type": "execute_result"
    }
   ],
   "source": [
    "# Value count of Location\n",
    "location_value_counts = df.Location.value_counts()\n",
    "location_value_counts"
   ]
  },
  {
   "cell_type": "code",
   "execution_count": 36,
   "id": "bf9214a3",
   "metadata": {
    "execution": {
     "iopub.execute_input": "2024-01-03T07:27:26.471933Z",
     "iopub.status.busy": "2024-01-03T07:27:26.471505Z",
     "iopub.status.idle": "2024-01-03T07:27:26.480755Z",
     "shell.execute_reply": "2024-01-03T07:27:26.479794Z"
    },
    "papermill": {
     "duration": 0.045935,
     "end_time": "2024-01-03T07:27:26.483074",
     "exception": false,
     "start_time": "2024-01-03T07:27:26.437139",
     "status": "completed"
    },
    "tags": []
   },
   "outputs": [
    {
     "data": {
      "text/plain": [
       "OnlineOrderFlag\n",
       "True     5418\n",
       "False    4582\n",
       "Name: count, dtype: int64"
      ]
     },
     "execution_count": 36,
     "metadata": {},
     "output_type": "execute_result"
    }
   ],
   "source": [
    "# Value count of OnlineOrderFlag\n",
    "onlineorderflag_value_counts = df.OnlineOrderFlag.value_counts()\n",
    "onlineorderflag_value_counts"
   ]
  },
  {
   "cell_type": "code",
   "execution_count": 37,
   "id": "2c30b8e2",
   "metadata": {
    "execution": {
     "iopub.execute_input": "2024-01-03T07:27:26.551414Z",
     "iopub.status.busy": "2024-01-03T07:27:26.550952Z",
     "iopub.status.idle": "2024-01-03T07:27:26.561749Z",
     "shell.execute_reply": "2024-01-03T07:27:26.560605Z"
    },
    "papermill": {
     "duration": 0.047836,
     "end_time": "2024-01-03T07:27:26.564232",
     "exception": false,
     "start_time": "2024-01-03T07:27:26.516396",
     "status": "completed"
    },
    "tags": []
   },
   "outputs": [
    {
     "data": {
      "text/plain": [
       "Category\n",
       "Electronics    2053\n",
       "Toys           2011\n",
       "Decorations    1995\n",
       "Food           1991\n",
       "Clothing       1950\n",
       "Name: count, dtype: int64"
      ]
     },
     "execution_count": 37,
     "metadata": {},
     "output_type": "execute_result"
    }
   ],
   "source": [
    "# Value count of Category\n",
    "Category_value_counts = df.Category.value_counts()\n",
    "Category_value_counts"
   ]
  },
  {
   "cell_type": "code",
   "execution_count": 38,
   "id": "c3e93286",
   "metadata": {
    "execution": {
     "iopub.execute_input": "2024-01-03T07:27:26.633959Z",
     "iopub.status.busy": "2024-01-03T07:27:26.633539Z",
     "iopub.status.idle": "2024-01-03T07:27:26.645702Z",
     "shell.execute_reply": "2024-01-03T07:27:26.643397Z"
    },
    "papermill": {
     "duration": 0.050288,
     "end_time": "2024-01-03T07:27:26.647999",
     "exception": false,
     "start_time": "2024-01-03T07:27:26.597711",
     "status": "completed"
    },
    "tags": []
   },
   "outputs": [
    {
     "data": {
      "text/plain": [
       "PaymentType\n",
       "Cash              2540\n",
       "Online Payment    2536\n",
       "Credit Card       2497\n",
       "Debit Card        2427\n",
       "Name: count, dtype: int64"
      ]
     },
     "execution_count": 38,
     "metadata": {},
     "output_type": "execute_result"
    }
   ],
   "source": [
    "# Value count of PaymentType\n",
    "PaymentType_value_counts = df.PaymentType.value_counts()\n",
    "PaymentType_value_counts"
   ]
  },
  {
   "cell_type": "code",
   "execution_count": 39,
   "id": "c15731d2",
   "metadata": {
    "execution": {
     "iopub.execute_input": "2024-01-03T07:27:26.716383Z",
     "iopub.status.busy": "2024-01-03T07:27:26.715955Z",
     "iopub.status.idle": "2024-01-03T07:27:26.726093Z",
     "shell.execute_reply": "2024-01-03T07:27:26.724993Z"
    },
    "papermill": {
     "duration": 0.047251,
     "end_time": "2024-01-03T07:27:26.728667",
     "exception": false,
     "start_time": "2024-01-03T07:27:26.681416",
     "status": "completed"
    },
    "tags": []
   },
   "outputs": [
    {
     "data": {
      "text/plain": [
       "PromotionApplied\n",
       "True     50.41\n",
       "False    49.59\n",
       "Name: proportion, dtype: float64"
      ]
     },
     "execution_count": 39,
     "metadata": {},
     "output_type": "execute_result"
    }
   ],
   "source": [
    "# Value count of PromotionApplied (expressed in %)\n",
    "PromotionApplied_value_counts = df.PromotionApplied.value_counts(normalize = True)*100\n",
    "PromotionApplied_value_counts"
   ]
  },
  {
   "cell_type": "code",
   "execution_count": 40,
   "id": "cd4e88d5",
   "metadata": {
    "execution": {
     "iopub.execute_input": "2024-01-03T07:27:26.797845Z",
     "iopub.status.busy": "2024-01-03T07:27:26.797420Z",
     "iopub.status.idle": "2024-01-03T07:27:26.806117Z",
     "shell.execute_reply": "2024-01-03T07:27:26.805321Z"
    },
    "papermill": {
     "duration": 0.046333,
     "end_time": "2024-01-03T07:27:26.808558",
     "exception": false,
     "start_time": "2024-01-03T07:27:26.762225",
     "status": "completed"
    },
    "tags": []
   },
   "outputs": [
    {
     "data": {
      "text/plain": [
       "GiftWrap\n",
       "True     5025\n",
       "False    4975\n",
       "Name: count, dtype: int64"
      ]
     },
     "execution_count": 40,
     "metadata": {},
     "output_type": "execute_result"
    }
   ],
   "source": [
    "# Value count of GiftWrap\n",
    "GiftWrap_value_counts = df.GiftWrap.value_counts()\n",
    "GiftWrap_value_counts\n"
   ]
  },
  {
   "cell_type": "code",
   "execution_count": 41,
   "id": "8c3acb8c",
   "metadata": {
    "execution": {
     "iopub.execute_input": "2024-01-03T07:27:26.876961Z",
     "iopub.status.busy": "2024-01-03T07:27:26.876543Z",
     "iopub.status.idle": "2024-01-03T07:27:26.887140Z",
     "shell.execute_reply": "2024-01-03T07:27:26.886237Z"
    },
    "papermill": {
     "duration": 0.047654,
     "end_time": "2024-01-03T07:27:26.889447",
     "exception": false,
     "start_time": "2024-01-03T07:27:26.841793",
     "status": "completed"
    },
    "tags": []
   },
   "outputs": [
    {
     "data": {
      "text/plain": [
       "ShippingMethod\n",
       "unknown      4582\n",
       "Express      1819\n",
       "Overnight    1809\n",
       "Standard     1790\n",
       "Name: count, dtype: int64"
      ]
     },
     "execution_count": 41,
     "metadata": {},
     "output_type": "execute_result"
    }
   ],
   "source": [
    "# Value count of ShippingMethod\n",
    "ShippingMethod_value_counts = df.ShippingMethod.value_counts()\n",
    "ShippingMethod_value_counts\n"
   ]
  },
  {
   "cell_type": "code",
   "execution_count": 42,
   "id": "c39d1995",
   "metadata": {
    "execution": {
     "iopub.execute_input": "2024-01-03T07:27:26.959535Z",
     "iopub.status.busy": "2024-01-03T07:27:26.959039Z",
     "iopub.status.idle": "2024-01-03T07:27:26.969838Z",
     "shell.execute_reply": "2024-01-03T07:27:26.968883Z"
    },
    "papermill": {
     "duration": 0.048766,
     "end_time": "2024-01-03T07:27:26.972000",
     "exception": false,
     "start_time": "2024-01-03T07:27:26.923234",
     "status": "completed"
    },
    "tags": []
   },
   "outputs": [
    {
     "data": {
      "text/plain": [
       "Event\n",
       "Black Friday        4254\n",
       "Christmas Market    2908\n",
       "unknown             2838\n",
       "Name: count, dtype: int64"
      ]
     },
     "execution_count": 42,
     "metadata": {},
     "output_type": "execute_result"
    }
   ],
   "source": [
    "# Value count of Event\n",
    "Event_value_counts = df.Event.value_counts()\n",
    "Event_value_counts"
   ]
  },
  {
   "cell_type": "code",
   "execution_count": 43,
   "id": "1149601b",
   "metadata": {
    "execution": {
     "iopub.execute_input": "2024-01-03T07:27:27.041005Z",
     "iopub.status.busy": "2024-01-03T07:27:27.040488Z",
     "iopub.status.idle": "2024-01-03T07:27:27.050653Z",
     "shell.execute_reply": "2024-01-03T07:27:27.049471Z"
    },
    "papermill": {
     "duration": 0.048003,
     "end_time": "2024-01-03T07:27:27.052928",
     "exception": false,
     "start_time": "2024-01-03T07:27:27.004925",
     "status": "completed"
    },
    "tags": []
   },
   "outputs": [
    {
     "data": {
      "text/plain": [
       "CustomerSatisfaction\n",
       "1    2070\n",
       "4    1991\n",
       "3    1991\n",
       "5    1974\n",
       "2    1974\n",
       "Name: count, dtype: int64"
      ]
     },
     "execution_count": 43,
     "metadata": {},
     "output_type": "execute_result"
    }
   ],
   "source": [
    "# Value count of CustomerSatisfaction\n",
    "CustomerSatisfaction_value_counts = df.CustomerSatisfaction.value_counts()\n",
    "CustomerSatisfaction_value_counts"
   ]
  },
  {
   "cell_type": "markdown",
   "id": "f1b528cf",
   "metadata": {
    "papermill": {
     "duration": 0.033454,
     "end_time": "2024-01-03T07:27:27.119433",
     "exception": false,
     "start_time": "2024-01-03T07:27:27.085979",
     "status": "completed"
    },
    "tags": []
   },
   "source": [
    "## Cross Tabulation"
   ]
  },
  {
   "cell_type": "code",
   "execution_count": 44,
   "id": "3f3fff39",
   "metadata": {
    "execution": {
     "iopub.execute_input": "2024-01-03T07:27:27.187987Z",
     "iopub.status.busy": "2024-01-03T07:27:27.187549Z",
     "iopub.status.idle": "2024-01-03T07:27:27.217674Z",
     "shell.execute_reply": "2024-01-03T07:27:27.216383Z"
    },
    "papermill": {
     "duration": 0.068294,
     "end_time": "2024-01-03T07:27:27.220881",
     "exception": false,
     "start_time": "2024-01-03T07:27:27.152587",
     "status": "completed"
    },
    "tags": []
   },
   "outputs": [
    {
     "data": {
      "text/html": [
       "<div>\n",
       "<style scoped>\n",
       "    .dataframe tbody tr th:only-of-type {\n",
       "        vertical-align: middle;\n",
       "    }\n",
       "\n",
       "    .dataframe tbody tr th {\n",
       "        vertical-align: top;\n",
       "    }\n",
       "\n",
       "    .dataframe thead th {\n",
       "        text-align: right;\n",
       "    }\n",
       "</style>\n",
       "<table border=\"1\" class=\"dataframe\">\n",
       "  <thead>\n",
       "    <tr style=\"text-align: right;\">\n",
       "      <th>Category</th>\n",
       "      <th>Clothing</th>\n",
       "      <th>Decorations</th>\n",
       "      <th>Electronics</th>\n",
       "      <th>Food</th>\n",
       "      <th>Toys</th>\n",
       "    </tr>\n",
       "    <tr>\n",
       "      <th>Gender</th>\n",
       "      <th></th>\n",
       "      <th></th>\n",
       "      <th></th>\n",
       "      <th></th>\n",
       "      <th></th>\n",
       "    </tr>\n",
       "  </thead>\n",
       "  <tbody>\n",
       "    <tr>\n",
       "      <th>Female</th>\n",
       "      <td>646</td>\n",
       "      <td>661</td>\n",
       "      <td>655</td>\n",
       "      <td>643</td>\n",
       "      <td>693</td>\n",
       "    </tr>\n",
       "    <tr>\n",
       "      <th>Male</th>\n",
       "      <td>656</td>\n",
       "      <td>651</td>\n",
       "      <td>715</td>\n",
       "      <td>688</td>\n",
       "      <td>675</td>\n",
       "    </tr>\n",
       "    <tr>\n",
       "      <th>Other</th>\n",
       "      <td>648</td>\n",
       "      <td>683</td>\n",
       "      <td>683</td>\n",
       "      <td>660</td>\n",
       "      <td>643</td>\n",
       "    </tr>\n",
       "  </tbody>\n",
       "</table>\n",
       "</div>"
      ],
      "text/plain": [
       "Category  Clothing  Decorations  Electronics  Food  Toys\n",
       "Gender                                                  \n",
       "Female         646          661          655   643   693\n",
       "Male           656          651          715   688   675\n",
       "Other          648          683          683   660   643"
      ]
     },
     "execution_count": 44,
     "metadata": {},
     "output_type": "execute_result"
    }
   ],
   "source": [
    "# Crosstab of Gender and Category\n",
    "gender_cat_crosstab = pd.crosstab(df.Gender,df.Category)\n",
    "gender_cat_crosstab"
   ]
  },
  {
   "cell_type": "code",
   "execution_count": 45,
   "id": "9ad92588",
   "metadata": {
    "execution": {
     "iopub.execute_input": "2024-01-03T07:27:27.293556Z",
     "iopub.status.busy": "2024-01-03T07:27:27.293088Z",
     "iopub.status.idle": "2024-01-03T07:27:27.317540Z",
     "shell.execute_reply": "2024-01-03T07:27:27.315974Z"
    },
    "papermill": {
     "duration": 0.063717,
     "end_time": "2024-01-03T07:27:27.320215",
     "exception": false,
     "start_time": "2024-01-03T07:27:27.256498",
     "status": "completed"
    },
    "tags": []
   },
   "outputs": [
    {
     "data": {
      "text/html": [
       "<div>\n",
       "<style scoped>\n",
       "    .dataframe tbody tr th:only-of-type {\n",
       "        vertical-align: middle;\n",
       "    }\n",
       "\n",
       "    .dataframe tbody tr th {\n",
       "        vertical-align: top;\n",
       "    }\n",
       "\n",
       "    .dataframe thead th {\n",
       "        text-align: right;\n",
       "    }\n",
       "</style>\n",
       "<table border=\"1\" class=\"dataframe\">\n",
       "  <thead>\n",
       "    <tr style=\"text-align: right;\">\n",
       "      <th>PaymentType</th>\n",
       "      <th>Cash</th>\n",
       "      <th>Credit Card</th>\n",
       "      <th>Debit Card</th>\n",
       "      <th>Online Payment</th>\n",
       "    </tr>\n",
       "    <tr>\n",
       "      <th>Category</th>\n",
       "      <th></th>\n",
       "      <th></th>\n",
       "      <th></th>\n",
       "      <th></th>\n",
       "    </tr>\n",
       "  </thead>\n",
       "  <tbody>\n",
       "    <tr>\n",
       "      <th>Clothing</th>\n",
       "      <td>512</td>\n",
       "      <td>495</td>\n",
       "      <td>470</td>\n",
       "      <td>473</td>\n",
       "    </tr>\n",
       "    <tr>\n",
       "      <th>Decorations</th>\n",
       "      <td>500</td>\n",
       "      <td>503</td>\n",
       "      <td>484</td>\n",
       "      <td>508</td>\n",
       "    </tr>\n",
       "    <tr>\n",
       "      <th>Electronics</th>\n",
       "      <td>525</td>\n",
       "      <td>501</td>\n",
       "      <td>493</td>\n",
       "      <td>534</td>\n",
       "    </tr>\n",
       "    <tr>\n",
       "      <th>Food</th>\n",
       "      <td>503</td>\n",
       "      <td>488</td>\n",
       "      <td>486</td>\n",
       "      <td>514</td>\n",
       "    </tr>\n",
       "    <tr>\n",
       "      <th>Toys</th>\n",
       "      <td>500</td>\n",
       "      <td>510</td>\n",
       "      <td>494</td>\n",
       "      <td>507</td>\n",
       "    </tr>\n",
       "  </tbody>\n",
       "</table>\n",
       "</div>"
      ],
      "text/plain": [
       "PaymentType  Cash  Credit Card  Debit Card  Online Payment\n",
       "Category                                                  \n",
       "Clothing      512          495         470             473\n",
       "Decorations   500          503         484             508\n",
       "Electronics   525          501         493             534\n",
       "Food          503          488         486             514\n",
       "Toys          500          510         494             507"
      ]
     },
     "execution_count": 45,
     "metadata": {},
     "output_type": "execute_result"
    }
   ],
   "source": [
    "# Crosstab of Category and PaymentType\n",
    "cat_pay_crosstab = pd.crosstab(df.Category,\n",
    "                               df.PaymentType)\n",
    "cat_pay_crosstab"
   ]
  },
  {
   "cell_type": "code",
   "execution_count": 46,
   "id": "c48234b3",
   "metadata": {
    "execution": {
     "iopub.execute_input": "2024-01-03T07:27:27.390340Z",
     "iopub.status.busy": "2024-01-03T07:27:27.389422Z",
     "iopub.status.idle": "2024-01-03T07:27:27.434213Z",
     "shell.execute_reply": "2024-01-03T07:27:27.433148Z"
    },
    "papermill": {
     "duration": 0.082483,
     "end_time": "2024-01-03T07:27:27.436618",
     "exception": false,
     "start_time": "2024-01-03T07:27:27.354135",
     "status": "completed"
    },
    "tags": []
   },
   "outputs": [
    {
     "data": {
      "text/html": [
       "<div>\n",
       "<style scoped>\n",
       "    .dataframe tbody tr th:only-of-type {\n",
       "        vertical-align: middle;\n",
       "    }\n",
       "\n",
       "    .dataframe tbody tr th {\n",
       "        vertical-align: top;\n",
       "    }\n",
       "\n",
       "    .dataframe thead th {\n",
       "        text-align: right;\n",
       "    }\n",
       "</style>\n",
       "<table border=\"1\" class=\"dataframe\">\n",
       "  <thead>\n",
       "    <tr style=\"text-align: right;\">\n",
       "      <th>Event</th>\n",
       "      <th>Black Friday</th>\n",
       "      <th>Christmas Market</th>\n",
       "      <th>unknown</th>\n",
       "      <th>All</th>\n",
       "    </tr>\n",
       "    <tr>\n",
       "      <th>GiftWrap</th>\n",
       "      <th></th>\n",
       "      <th></th>\n",
       "      <th></th>\n",
       "      <th></th>\n",
       "    </tr>\n",
       "  </thead>\n",
       "  <tbody>\n",
       "    <tr>\n",
       "      <th>False</th>\n",
       "      <td>2118</td>\n",
       "      <td>1428</td>\n",
       "      <td>1429</td>\n",
       "      <td>4975</td>\n",
       "    </tr>\n",
       "    <tr>\n",
       "      <th>True</th>\n",
       "      <td>2136</td>\n",
       "      <td>1480</td>\n",
       "      <td>1409</td>\n",
       "      <td>5025</td>\n",
       "    </tr>\n",
       "    <tr>\n",
       "      <th>All</th>\n",
       "      <td>4254</td>\n",
       "      <td>2908</td>\n",
       "      <td>2838</td>\n",
       "      <td>10000</td>\n",
       "    </tr>\n",
       "  </tbody>\n",
       "</table>\n",
       "</div>"
      ],
      "text/plain": [
       "Event     Black Friday  Christmas Market  unknown    All\n",
       "GiftWrap                                                \n",
       "False             2118              1428     1429   4975\n",
       "True              2136              1480     1409   5025\n",
       "All               4254              2908     2838  10000"
      ]
     },
     "execution_count": 46,
     "metadata": {},
     "output_type": "execute_result"
    }
   ],
   "source": [
    "# Crosstab of GiftWrap and Event\n",
    "gift_event_crosstab = pd.crosstab(df.GiftWrap,\n",
    "                               df.Event, margins = True)\n",
    "gift_event_crosstab"
   ]
  },
  {
   "cell_type": "code",
   "execution_count": 47,
   "id": "bea25342",
   "metadata": {
    "execution": {
     "iopub.execute_input": "2024-01-03T07:27:27.506862Z",
     "iopub.status.busy": "2024-01-03T07:27:27.505813Z",
     "iopub.status.idle": "2024-01-03T07:27:27.551428Z",
     "shell.execute_reply": "2024-01-03T07:27:27.550387Z"
    },
    "papermill": {
     "duration": 0.083664,
     "end_time": "2024-01-03T07:27:27.554138",
     "exception": false,
     "start_time": "2024-01-03T07:27:27.470474",
     "status": "completed"
    },
    "tags": []
   },
   "outputs": [
    {
     "data": {
      "text/html": [
       "<div>\n",
       "<style scoped>\n",
       "    .dataframe tbody tr th:only-of-type {\n",
       "        vertical-align: middle;\n",
       "    }\n",
       "\n",
       "    .dataframe tbody tr th {\n",
       "        vertical-align: top;\n",
       "    }\n",
       "\n",
       "    .dataframe thead th {\n",
       "        text-align: right;\n",
       "    }\n",
       "</style>\n",
       "<table border=\"1\" class=\"dataframe\">\n",
       "  <thead>\n",
       "    <tr style=\"text-align: right;\">\n",
       "      <th>Weather</th>\n",
       "      <th>Rainy</th>\n",
       "      <th>Snowy</th>\n",
       "      <th>Sunny</th>\n",
       "      <th>All</th>\n",
       "    </tr>\n",
       "    <tr>\n",
       "      <th>ShippingMethod</th>\n",
       "      <th></th>\n",
       "      <th></th>\n",
       "      <th></th>\n",
       "      <th></th>\n",
       "    </tr>\n",
       "  </thead>\n",
       "  <tbody>\n",
       "    <tr>\n",
       "      <th>Express</th>\n",
       "      <td>614</td>\n",
       "      <td>588</td>\n",
       "      <td>617</td>\n",
       "      <td>1819</td>\n",
       "    </tr>\n",
       "    <tr>\n",
       "      <th>Overnight</th>\n",
       "      <td>612</td>\n",
       "      <td>615</td>\n",
       "      <td>582</td>\n",
       "      <td>1809</td>\n",
       "    </tr>\n",
       "    <tr>\n",
       "      <th>Standard</th>\n",
       "      <td>607</td>\n",
       "      <td>603</td>\n",
       "      <td>580</td>\n",
       "      <td>1790</td>\n",
       "    </tr>\n",
       "    <tr>\n",
       "      <th>unknown</th>\n",
       "      <td>1575</td>\n",
       "      <td>1518</td>\n",
       "      <td>1489</td>\n",
       "      <td>4582</td>\n",
       "    </tr>\n",
       "    <tr>\n",
       "      <th>All</th>\n",
       "      <td>3408</td>\n",
       "      <td>3324</td>\n",
       "      <td>3268</td>\n",
       "      <td>10000</td>\n",
       "    </tr>\n",
       "  </tbody>\n",
       "</table>\n",
       "</div>"
      ],
      "text/plain": [
       "Weather         Rainy  Snowy  Sunny    All\n",
       "ShippingMethod                            \n",
       "Express           614    588    617   1819\n",
       "Overnight         612    615    582   1809\n",
       "Standard          607    603    580   1790\n",
       "unknown          1575   1518   1489   4582\n",
       "All              3408   3324   3268  10000"
      ]
     },
     "execution_count": 47,
     "metadata": {},
     "output_type": "execute_result"
    }
   ],
   "source": [
    "# Crosstab of ShippingMethod and Weather\n",
    "ship_weather_crosstab = pd.crosstab(df.ShippingMethod,\n",
    "                               df.Weather,margins = True)\n",
    "ship_weather_crosstab"
   ]
  },
  {
   "cell_type": "code",
   "execution_count": 48,
   "id": "e9300875",
   "metadata": {
    "execution": {
     "iopub.execute_input": "2024-01-03T07:27:27.624181Z",
     "iopub.status.busy": "2024-01-03T07:27:27.623796Z",
     "iopub.status.idle": "2024-01-03T07:27:27.646058Z",
     "shell.execute_reply": "2024-01-03T07:27:27.644791Z"
    },
    "papermill": {
     "duration": 0.060227,
     "end_time": "2024-01-03T07:27:27.648440",
     "exception": false,
     "start_time": "2024-01-03T07:27:27.588213",
     "status": "completed"
    },
    "tags": []
   },
   "outputs": [
    {
     "data": {
      "text/html": [
       "<div>\n",
       "<style scoped>\n",
       "    .dataframe tbody tr th:only-of-type {\n",
       "        vertical-align: middle;\n",
       "    }\n",
       "\n",
       "    .dataframe tbody tr th {\n",
       "        vertical-align: top;\n",
       "    }\n",
       "\n",
       "    .dataframe thead th {\n",
       "        text-align: right;\n",
       "    }\n",
       "</style>\n",
       "<table border=\"1\" class=\"dataframe\">\n",
       "  <thead>\n",
       "    <tr style=\"text-align: right;\">\n",
       "      <th>ReturnFlag</th>\n",
       "      <th>False</th>\n",
       "      <th>True</th>\n",
       "    </tr>\n",
       "    <tr>\n",
       "      <th>CustomerSatisfaction</th>\n",
       "      <th></th>\n",
       "      <th></th>\n",
       "    </tr>\n",
       "  </thead>\n",
       "  <tbody>\n",
       "    <tr>\n",
       "      <th>1</th>\n",
       "      <td>1017</td>\n",
       "      <td>1053</td>\n",
       "    </tr>\n",
       "    <tr>\n",
       "      <th>2</th>\n",
       "      <td>983</td>\n",
       "      <td>991</td>\n",
       "    </tr>\n",
       "    <tr>\n",
       "      <th>3</th>\n",
       "      <td>934</td>\n",
       "      <td>1057</td>\n",
       "    </tr>\n",
       "    <tr>\n",
       "      <th>4</th>\n",
       "      <td>1005</td>\n",
       "      <td>986</td>\n",
       "    </tr>\n",
       "    <tr>\n",
       "      <th>5</th>\n",
       "      <td>1007</td>\n",
       "      <td>967</td>\n",
       "    </tr>\n",
       "  </tbody>\n",
       "</table>\n",
       "</div>"
      ],
      "text/plain": [
       "ReturnFlag            False  True \n",
       "CustomerSatisfaction              \n",
       "1                      1017   1053\n",
       "2                       983    991\n",
       "3                       934   1057\n",
       "4                      1005    986\n",
       "5                      1007    967"
      ]
     },
     "execution_count": 48,
     "metadata": {},
     "output_type": "execute_result"
    }
   ],
   "source": [
    "# Crosstab of CustomerSatisfaction and ReturnFlag\n",
    "satisfaction_return_crosstab = pd.crosstab(df.CustomerSatisfaction,\n",
    "                               df.ReturnFlag)\n",
    "satisfaction_return_crosstab"
   ]
  },
  {
   "cell_type": "code",
   "execution_count": 49,
   "id": "dbb888da",
   "metadata": {
    "execution": {
     "iopub.execute_input": "2024-01-03T07:27:27.718896Z",
     "iopub.status.busy": "2024-01-03T07:27:27.718440Z",
     "iopub.status.idle": "2024-01-03T07:27:27.740645Z",
     "shell.execute_reply": "2024-01-03T07:27:27.739706Z"
    },
    "papermill": {
     "duration": 0.060302,
     "end_time": "2024-01-03T07:27:27.742853",
     "exception": false,
     "start_time": "2024-01-03T07:27:27.682551",
     "status": "completed"
    },
    "tags": []
   },
   "outputs": [
    {
     "data": {
      "text/html": [
       "<div>\n",
       "<style scoped>\n",
       "    .dataframe tbody tr th:only-of-type {\n",
       "        vertical-align: middle;\n",
       "    }\n",
       "\n",
       "    .dataframe tbody tr th {\n",
       "        vertical-align: top;\n",
       "    }\n",
       "\n",
       "    .dataframe thead th {\n",
       "        text-align: right;\n",
       "    }\n",
       "</style>\n",
       "<table border=\"1\" class=\"dataframe\">\n",
       "  <thead>\n",
       "    <tr style=\"text-align: right;\">\n",
       "      <th>ReturnFlag</th>\n",
       "      <th>False</th>\n",
       "      <th>True</th>\n",
       "    </tr>\n",
       "    <tr>\n",
       "      <th>CustomerSatisfaction</th>\n",
       "      <th></th>\n",
       "      <th></th>\n",
       "    </tr>\n",
       "  </thead>\n",
       "  <tbody>\n",
       "    <tr>\n",
       "      <th>1</th>\n",
       "      <td>1017</td>\n",
       "      <td>1053</td>\n",
       "    </tr>\n",
       "    <tr>\n",
       "      <th>2</th>\n",
       "      <td>983</td>\n",
       "      <td>991</td>\n",
       "    </tr>\n",
       "    <tr>\n",
       "      <th>3</th>\n",
       "      <td>934</td>\n",
       "      <td>1057</td>\n",
       "    </tr>\n",
       "    <tr>\n",
       "      <th>4</th>\n",
       "      <td>1005</td>\n",
       "      <td>986</td>\n",
       "    </tr>\n",
       "    <tr>\n",
       "      <th>5</th>\n",
       "      <td>1007</td>\n",
       "      <td>967</td>\n",
       "    </tr>\n",
       "  </tbody>\n",
       "</table>\n",
       "</div>"
      ],
      "text/plain": [
       "ReturnFlag            False  True \n",
       "CustomerSatisfaction              \n",
       "1                      1017   1053\n",
       "2                       983    991\n",
       "3                       934   1057\n",
       "4                      1005    986\n",
       "5                      1007    967"
      ]
     },
     "execution_count": 49,
     "metadata": {},
     "output_type": "execute_result"
    }
   ],
   "source": [
    "# Crosstab of ProductName and GiftWrap\n",
    "product_giftwarp_crosstab = pd.crosstab(df.ProductName,\n",
    "                               df.GiftWrap)\n",
    "satisfaction_return_crosstab"
   ]
  },
  {
   "cell_type": "markdown",
   "id": "05e41f71",
   "metadata": {
    "papermill": {
     "duration": 0.034107,
     "end_time": "2024-01-03T07:27:27.811517",
     "exception": false,
     "start_time": "2024-01-03T07:27:27.777410",
     "status": "completed"
    },
    "tags": []
   },
   "source": [
    "## Groupby"
   ]
  },
  {
   "cell_type": "code",
   "execution_count": 50,
   "id": "4402a37c",
   "metadata": {
    "execution": {
     "iopub.execute_input": "2024-01-03T07:27:27.882286Z",
     "iopub.status.busy": "2024-01-03T07:27:27.881835Z",
     "iopub.status.idle": "2024-01-03T07:27:27.898287Z",
     "shell.execute_reply": "2024-01-03T07:27:27.897021Z"
    },
    "papermill": {
     "duration": 0.055189,
     "end_time": "2024-01-03T07:27:27.901027",
     "exception": false,
     "start_time": "2024-01-03T07:27:27.845838",
     "status": "completed"
    },
    "tags": []
   },
   "outputs": [
    {
     "data": {
      "text/html": [
       "<div>\n",
       "<style scoped>\n",
       "    .dataframe tbody tr th:only-of-type {\n",
       "        vertical-align: middle;\n",
       "    }\n",
       "\n",
       "    .dataframe tbody tr th {\n",
       "        vertical-align: top;\n",
       "    }\n",
       "\n",
       "    .dataframe thead th {\n",
       "        text-align: right;\n",
       "    }\n",
       "</style>\n",
       "<table border=\"1\" class=\"dataframe\">\n",
       "  <thead>\n",
       "    <tr style=\"text-align: right;\">\n",
       "      <th></th>\n",
       "      <th>Year</th>\n",
       "      <th>TotalRevenue</th>\n",
       "    </tr>\n",
       "  </thead>\n",
       "  <tbody>\n",
       "    <tr>\n",
       "      <th>0</th>\n",
       "      <td>2018</td>\n",
       "      <td>284186.345216</td>\n",
       "    </tr>\n",
       "    <tr>\n",
       "      <th>1</th>\n",
       "      <td>2019</td>\n",
       "      <td>267035.542074</td>\n",
       "    </tr>\n",
       "    <tr>\n",
       "      <th>2</th>\n",
       "      <td>2020</td>\n",
       "      <td>272851.257211</td>\n",
       "    </tr>\n",
       "    <tr>\n",
       "      <th>3</th>\n",
       "      <td>2021</td>\n",
       "      <td>276911.945692</td>\n",
       "    </tr>\n",
       "    <tr>\n",
       "      <th>4</th>\n",
       "      <td>2022</td>\n",
       "      <td>267099.899433</td>\n",
       "    </tr>\n",
       "    <tr>\n",
       "      <th>5</th>\n",
       "      <td>2023</td>\n",
       "      <td>286175.158612</td>\n",
       "    </tr>\n",
       "  </tbody>\n",
       "</table>\n",
       "</div>"
      ],
      "text/plain": [
       "   Year   TotalRevenue\n",
       "0  2018  284186.345216\n",
       "1  2019  267035.542074\n",
       "2  2020  272851.257211\n",
       "3  2021  276911.945692\n",
       "4  2022  267099.899433\n",
       "5  2023  286175.158612"
      ]
     },
     "execution_count": 50,
     "metadata": {},
     "output_type": "execute_result"
    }
   ],
   "source": [
    "# Total revenue grouped by year\n",
    "year_rev_group = df.groupby(\"Year\")[\"TotalRevenue\"].sum()\\\n",
    ".reset_index()\n",
    "year_rev_group"
   ]
  },
  {
   "cell_type": "code",
   "execution_count": 51,
   "id": "c3715ff6",
   "metadata": {
    "execution": {
     "iopub.execute_input": "2024-01-03T07:27:27.972519Z",
     "iopub.status.busy": "2024-01-03T07:27:27.972100Z",
     "iopub.status.idle": "2024-01-03T07:27:27.986722Z",
     "shell.execute_reply": "2024-01-03T07:27:27.985359Z"
    },
    "papermill": {
     "duration": 0.053442,
     "end_time": "2024-01-03T07:27:27.989408",
     "exception": false,
     "start_time": "2024-01-03T07:27:27.935966",
     "status": "completed"
    },
    "tags": []
   },
   "outputs": [
    {
     "data": {
      "text/html": [
       "<div>\n",
       "<style scoped>\n",
       "    .dataframe tbody tr th:only-of-type {\n",
       "        vertical-align: middle;\n",
       "    }\n",
       "\n",
       "    .dataframe tbody tr th {\n",
       "        vertical-align: top;\n",
       "    }\n",
       "\n",
       "    .dataframe thead th {\n",
       "        text-align: right;\n",
       "    }\n",
       "</style>\n",
       "<table border=\"1\" class=\"dataframe\">\n",
       "  <thead>\n",
       "    <tr style=\"text-align: right;\">\n",
       "      <th></th>\n",
       "      <th>PaymentType</th>\n",
       "      <th>TotalRevenue</th>\n",
       "    </tr>\n",
       "  </thead>\n",
       "  <tbody>\n",
       "    <tr>\n",
       "      <th>0</th>\n",
       "      <td>Cash</td>\n",
       "      <td>421579.300188</td>\n",
       "    </tr>\n",
       "    <tr>\n",
       "      <th>1</th>\n",
       "      <td>Credit Card</td>\n",
       "      <td>421512.175000</td>\n",
       "    </tr>\n",
       "    <tr>\n",
       "      <th>2</th>\n",
       "      <td>Debit Card</td>\n",
       "      <td>402184.337400</td>\n",
       "    </tr>\n",
       "    <tr>\n",
       "      <th>3</th>\n",
       "      <td>Online Payment</td>\n",
       "      <td>408984.335652</td>\n",
       "    </tr>\n",
       "  </tbody>\n",
       "</table>\n",
       "</div>"
      ],
      "text/plain": [
       "      PaymentType   TotalRevenue\n",
       "0            Cash  421579.300188\n",
       "1     Credit Card  421512.175000\n",
       "2      Debit Card  402184.337400\n",
       "3  Online Payment  408984.335652"
      ]
     },
     "execution_count": 51,
     "metadata": {},
     "output_type": "execute_result"
    }
   ],
   "source": [
    "# Total revenue grouped by payment type\n",
    "pay_rev_group = df.groupby(\"PaymentType\")[\"TotalRevenue\"].sum()\\\n",
    ".reset_index()\n",
    "pay_rev_group"
   ]
  },
  {
   "cell_type": "code",
   "execution_count": 52,
   "id": "e2481221",
   "metadata": {
    "execution": {
     "iopub.execute_input": "2024-01-03T07:27:28.063073Z",
     "iopub.status.busy": "2024-01-03T07:27:28.062579Z",
     "iopub.status.idle": "2024-01-03T07:27:28.069170Z",
     "shell.execute_reply": "2024-01-03T07:27:28.068187Z"
    },
    "papermill": {
     "duration": 0.046173,
     "end_time": "2024-01-03T07:27:28.071518",
     "exception": false,
     "start_time": "2024-01-03T07:27:28.025345",
     "status": "completed"
    },
    "tags": []
   },
   "outputs": [
    {
     "data": {
      "text/plain": [
       "pandas.core.frame.DataFrame"
      ]
     },
     "execution_count": 52,
     "metadata": {},
     "output_type": "execute_result"
    }
   ],
   "source": [
    "# Check the class of the output\n",
    "type(pay_rev_group)"
   ]
  },
  {
   "cell_type": "code",
   "execution_count": 53,
   "id": "72dc248a",
   "metadata": {
    "execution": {
     "iopub.execute_input": "2024-01-03T07:27:28.144278Z",
     "iopub.status.busy": "2024-01-03T07:27:28.143774Z",
     "iopub.status.idle": "2024-01-03T07:27:28.159669Z",
     "shell.execute_reply": "2024-01-03T07:27:28.158385Z"
    },
    "papermill": {
     "duration": 0.05518,
     "end_time": "2024-01-03T07:27:28.161973",
     "exception": false,
     "start_time": "2024-01-03T07:27:28.106793",
     "status": "completed"
    },
    "tags": []
   },
   "outputs": [
    {
     "data": {
      "text/html": [
       "<div>\n",
       "<style scoped>\n",
       "    .dataframe tbody tr th:only-of-type {\n",
       "        vertical-align: middle;\n",
       "    }\n",
       "\n",
       "    .dataframe tbody tr th {\n",
       "        vertical-align: top;\n",
       "    }\n",
       "\n",
       "    .dataframe thead th {\n",
       "        text-align: right;\n",
       "    }\n",
       "</style>\n",
       "<table border=\"1\" class=\"dataframe\">\n",
       "  <thead>\n",
       "    <tr style=\"text-align: right;\">\n",
       "      <th></th>\n",
       "      <th>ShippingMethod</th>\n",
       "      <th>TotalRevenue</th>\n",
       "    </tr>\n",
       "  </thead>\n",
       "  <tbody>\n",
       "    <tr>\n",
       "      <th>0</th>\n",
       "      <td>Express</td>\n",
       "      <td>301810.712985</td>\n",
       "    </tr>\n",
       "    <tr>\n",
       "      <th>1</th>\n",
       "      <td>Overnight</td>\n",
       "      <td>299338.317100</td>\n",
       "    </tr>\n",
       "    <tr>\n",
       "      <th>2</th>\n",
       "      <td>Standard</td>\n",
       "      <td>299707.558039</td>\n",
       "    </tr>\n",
       "    <tr>\n",
       "      <th>3</th>\n",
       "      <td>unknown</td>\n",
       "      <td>753403.560117</td>\n",
       "    </tr>\n",
       "  </tbody>\n",
       "</table>\n",
       "</div>"
      ],
      "text/plain": [
       "  ShippingMethod   TotalRevenue\n",
       "0        Express  301810.712985\n",
       "1      Overnight  299338.317100\n",
       "2       Standard  299707.558039\n",
       "3        unknown  753403.560117"
      ]
     },
     "execution_count": 53,
     "metadata": {},
     "output_type": "execute_result"
    }
   ],
   "source": [
    "# Total revenue grouped by shipping method\n",
    "ship_rev_group = df.groupby(\"ShippingMethod\")[\"TotalRevenue\"].sum()\\\n",
    ".reset_index()\n",
    "ship_rev_group"
   ]
  },
  {
   "cell_type": "code",
   "execution_count": 54,
   "id": "ea35f342",
   "metadata": {
    "execution": {
     "iopub.execute_input": "2024-01-03T07:27:28.238217Z",
     "iopub.status.busy": "2024-01-03T07:27:28.237796Z",
     "iopub.status.idle": "2024-01-03T07:27:28.258366Z",
     "shell.execute_reply": "2024-01-03T07:27:28.257012Z"
    },
    "papermill": {
     "duration": 0.062065,
     "end_time": "2024-01-03T07:27:28.260800",
     "exception": false,
     "start_time": "2024-01-03T07:27:28.198735",
     "status": "completed"
    },
    "tags": []
   },
   "outputs": [
    {
     "data": {
      "text/html": [
       "<div>\n",
       "<style scoped>\n",
       "    .dataframe tbody tr th:only-of-type {\n",
       "        vertical-align: middle;\n",
       "    }\n",
       "\n",
       "    .dataframe tbody tr th {\n",
       "        vertical-align: top;\n",
       "    }\n",
       "\n",
       "    .dataframe thead th {\n",
       "        text-align: right;\n",
       "    }\n",
       "</style>\n",
       "<table border=\"1\" class=\"dataframe\">\n",
       "  <thead>\n",
       "    <tr style=\"text-align: right;\">\n",
       "      <th></th>\n",
       "      <th>Gender</th>\n",
       "      <th>TotalRevenue</th>\n",
       "    </tr>\n",
       "  </thead>\n",
       "  <tbody>\n",
       "    <tr>\n",
       "      <th>0</th>\n",
       "      <td>Female</td>\n",
       "      <td>166.436676</td>\n",
       "    </tr>\n",
       "    <tr>\n",
       "      <th>1</th>\n",
       "      <td>Male</td>\n",
       "      <td>163.002955</td>\n",
       "    </tr>\n",
       "    <tr>\n",
       "      <th>2</th>\n",
       "      <td>Other</td>\n",
       "      <td>166.893877</td>\n",
       "    </tr>\n",
       "  </tbody>\n",
       "</table>\n",
       "</div>"
      ],
      "text/plain": [
       "   Gender  TotalRevenue\n",
       "0  Female    166.436676\n",
       "1    Male    163.002955\n",
       "2   Other    166.893877"
      ]
     },
     "execution_count": 54,
     "metadata": {},
     "output_type": "execute_result"
    }
   ],
   "source": [
    "# Average revenue grouped by genders\n",
    "gender_rev_group = df.groupby(\"Gender\")[\"TotalRevenue\"].mean()\\\n",
    ".reset_index()\n",
    "gender_rev_group"
   ]
  },
  {
   "cell_type": "code",
   "execution_count": 55,
   "id": "ad6fd62e",
   "metadata": {
    "execution": {
     "iopub.execute_input": "2024-01-03T07:27:28.339473Z",
     "iopub.status.busy": "2024-01-03T07:27:28.338716Z",
     "iopub.status.idle": "2024-01-03T07:27:28.351903Z",
     "shell.execute_reply": "2024-01-03T07:27:28.350977Z"
    },
    "papermill": {
     "duration": 0.053663,
     "end_time": "2024-01-03T07:27:28.354073",
     "exception": false,
     "start_time": "2024-01-03T07:27:28.300410",
     "status": "completed"
    },
    "tags": []
   },
   "outputs": [
    {
     "data": {
      "text/html": [
       "<div>\n",
       "<style scoped>\n",
       "    .dataframe tbody tr th:only-of-type {\n",
       "        vertical-align: middle;\n",
       "    }\n",
       "\n",
       "    .dataframe tbody tr th {\n",
       "        vertical-align: top;\n",
       "    }\n",
       "\n",
       "    .dataframe thead th {\n",
       "        text-align: right;\n",
       "    }\n",
       "</style>\n",
       "<table border=\"1\" class=\"dataframe\">\n",
       "  <thead>\n",
       "    <tr style=\"text-align: right;\">\n",
       "      <th></th>\n",
       "      <th>Weather</th>\n",
       "      <th>TotalRevenue</th>\n",
       "    </tr>\n",
       "  </thead>\n",
       "  <tbody>\n",
       "    <tr>\n",
       "      <th>0</th>\n",
       "      <td>Rainy</td>\n",
       "      <td>169.138925</td>\n",
       "    </tr>\n",
       "    <tr>\n",
       "      <th>1</th>\n",
       "      <td>Snowy</td>\n",
       "      <td>163.070804</td>\n",
       "    </tr>\n",
       "    <tr>\n",
       "      <th>2</th>\n",
       "      <td>Sunny</td>\n",
       "      <td>163.949614</td>\n",
       "    </tr>\n",
       "  </tbody>\n",
       "</table>\n",
       "</div>"
      ],
      "text/plain": [
       "  Weather  TotalRevenue\n",
       "0   Rainy    169.138925\n",
       "1   Snowy    163.070804\n",
       "2   Sunny    163.949614"
      ]
     },
     "execution_count": 55,
     "metadata": {},
     "output_type": "execute_result"
    }
   ],
   "source": [
    "# Average revenue grouped by weather\n",
    "weather_rev_group = df.groupby(\"Weather\")[\"TotalRevenue\"].mean()\\\n",
    ".reset_index()\n",
    "weather_rev_group"
   ]
  },
  {
   "cell_type": "code",
   "execution_count": 56,
   "id": "d66ff2bf",
   "metadata": {
    "execution": {
     "iopub.execute_input": "2024-01-03T07:27:28.428398Z",
     "iopub.status.busy": "2024-01-03T07:27:28.427590Z",
     "iopub.status.idle": "2024-01-03T07:27:28.442679Z",
     "shell.execute_reply": "2024-01-03T07:27:28.441469Z"
    },
    "papermill": {
     "duration": 0.055258,
     "end_time": "2024-01-03T07:27:28.445046",
     "exception": false,
     "start_time": "2024-01-03T07:27:28.389788",
     "status": "completed"
    },
    "tags": []
   },
   "outputs": [
    {
     "data": {
      "text/html": [
       "<div>\n",
       "<style scoped>\n",
       "    .dataframe tbody tr th:only-of-type {\n",
       "        vertical-align: middle;\n",
       "    }\n",
       "\n",
       "    .dataframe tbody tr th {\n",
       "        vertical-align: top;\n",
       "    }\n",
       "\n",
       "    .dataframe thead th {\n",
       "        text-align: right;\n",
       "    }\n",
       "</style>\n",
       "<table border=\"1\" class=\"dataframe\">\n",
       "  <thead>\n",
       "    <tr style=\"text-align: right;\">\n",
       "      <th></th>\n",
       "      <th>Category</th>\n",
       "      <th>Age</th>\n",
       "    </tr>\n",
       "  </thead>\n",
       "  <tbody>\n",
       "    <tr>\n",
       "      <th>0</th>\n",
       "      <td>Clothing</td>\n",
       "      <td>43.938974</td>\n",
       "    </tr>\n",
       "    <tr>\n",
       "      <th>1</th>\n",
       "      <td>Decorations</td>\n",
       "      <td>43.458647</td>\n",
       "    </tr>\n",
       "    <tr>\n",
       "      <th>2</th>\n",
       "      <td>Electronics</td>\n",
       "      <td>43.898198</td>\n",
       "    </tr>\n",
       "    <tr>\n",
       "      <th>3</th>\n",
       "      <td>Food</td>\n",
       "      <td>43.799096</td>\n",
       "    </tr>\n",
       "    <tr>\n",
       "      <th>4</th>\n",
       "      <td>Toys</td>\n",
       "      <td>43.863252</td>\n",
       "    </tr>\n",
       "  </tbody>\n",
       "</table>\n",
       "</div>"
      ],
      "text/plain": [
       "      Category        Age\n",
       "0     Clothing  43.938974\n",
       "1  Decorations  43.458647\n",
       "2  Electronics  43.898198\n",
       "3         Food  43.799096\n",
       "4         Toys  43.863252"
      ]
     },
     "execution_count": 56,
     "metadata": {},
     "output_type": "execute_result"
    }
   ],
   "source": [
    "# Average age grouped by category\n",
    "cat_age_group = df.groupby(\"Category\")[\"Age\"].mean()\\\n",
    ".reset_index()\n",
    "cat_age_group"
   ]
  },
  {
   "cell_type": "code",
   "execution_count": 57,
   "id": "b19841a5",
   "metadata": {
    "execution": {
     "iopub.execute_input": "2024-01-03T07:27:28.519952Z",
     "iopub.status.busy": "2024-01-03T07:27:28.519371Z",
     "iopub.status.idle": "2024-01-03T07:27:28.536887Z",
     "shell.execute_reply": "2024-01-03T07:27:28.535471Z"
    },
    "papermill": {
     "duration": 0.058052,
     "end_time": "2024-01-03T07:27:28.539541",
     "exception": false,
     "start_time": "2024-01-03T07:27:28.481489",
     "status": "completed"
    },
    "tags": []
   },
   "outputs": [
    {
     "data": {
      "text/html": [
       "<div>\n",
       "<style scoped>\n",
       "    .dataframe tbody tr th:only-of-type {\n",
       "        vertical-align: middle;\n",
       "    }\n",
       "\n",
       "    .dataframe tbody tr th {\n",
       "        vertical-align: top;\n",
       "    }\n",
       "\n",
       "    .dataframe thead th {\n",
       "        text-align: right;\n",
       "    }\n",
       "</style>\n",
       "<table border=\"1\" class=\"dataframe\">\n",
       "  <thead>\n",
       "    <tr style=\"text-align: right;\">\n",
       "      <th></th>\n",
       "      <th>Location</th>\n",
       "      <th>Quantity</th>\n",
       "    </tr>\n",
       "  </thead>\n",
       "  <tbody>\n",
       "    <tr>\n",
       "      <th>0</th>\n",
       "      <td>City_1</td>\n",
       "      <td>3.044574</td>\n",
       "    </tr>\n",
       "    <tr>\n",
       "      <th>1</th>\n",
       "      <td>City_10</td>\n",
       "      <td>2.956159</td>\n",
       "    </tr>\n",
       "    <tr>\n",
       "      <th>2</th>\n",
       "      <td>City_11</td>\n",
       "      <td>2.981964</td>\n",
       "    </tr>\n",
       "    <tr>\n",
       "      <th>3</th>\n",
       "      <td>City_12</td>\n",
       "      <td>3.027079</td>\n",
       "    </tr>\n",
       "    <tr>\n",
       "      <th>4</th>\n",
       "      <td>City_13</td>\n",
       "      <td>3.129091</td>\n",
       "    </tr>\n",
       "    <tr>\n",
       "      <th>5</th>\n",
       "      <td>City_14</td>\n",
       "      <td>2.986408</td>\n",
       "    </tr>\n",
       "    <tr>\n",
       "      <th>6</th>\n",
       "      <td>City_15</td>\n",
       "      <td>3.029703</td>\n",
       "    </tr>\n",
       "    <tr>\n",
       "      <th>7</th>\n",
       "      <td>City_16</td>\n",
       "      <td>2.916667</td>\n",
       "    </tr>\n",
       "    <tr>\n",
       "      <th>8</th>\n",
       "      <td>City_17</td>\n",
       "      <td>3.006696</td>\n",
       "    </tr>\n",
       "    <tr>\n",
       "      <th>9</th>\n",
       "      <td>City_18</td>\n",
       "      <td>3.029070</td>\n",
       "    </tr>\n",
       "    <tr>\n",
       "      <th>10</th>\n",
       "      <td>City_19</td>\n",
       "      <td>3.055118</td>\n",
       "    </tr>\n",
       "    <tr>\n",
       "      <th>11</th>\n",
       "      <td>City_2</td>\n",
       "      <td>3.006012</td>\n",
       "    </tr>\n",
       "    <tr>\n",
       "      <th>12</th>\n",
       "      <td>City_20</td>\n",
       "      <td>2.977642</td>\n",
       "    </tr>\n",
       "    <tr>\n",
       "      <th>13</th>\n",
       "      <td>City_3</td>\n",
       "      <td>2.962818</td>\n",
       "    </tr>\n",
       "    <tr>\n",
       "      <th>14</th>\n",
       "      <td>City_4</td>\n",
       "      <td>2.998047</td>\n",
       "    </tr>\n",
       "    <tr>\n",
       "      <th>15</th>\n",
       "      <td>City_5</td>\n",
       "      <td>2.953722</td>\n",
       "    </tr>\n",
       "    <tr>\n",
       "      <th>16</th>\n",
       "      <td>City_6</td>\n",
       "      <td>2.964215</td>\n",
       "    </tr>\n",
       "    <tr>\n",
       "      <th>17</th>\n",
       "      <td>City_7</td>\n",
       "      <td>3.054585</td>\n",
       "    </tr>\n",
       "    <tr>\n",
       "      <th>18</th>\n",
       "      <td>City_8</td>\n",
       "      <td>3.037402</td>\n",
       "    </tr>\n",
       "    <tr>\n",
       "      <th>19</th>\n",
       "      <td>City_9</td>\n",
       "      <td>3.080082</td>\n",
       "    </tr>\n",
       "  </tbody>\n",
       "</table>\n",
       "</div>"
      ],
      "text/plain": [
       "   Location  Quantity\n",
       "0    City_1  3.044574\n",
       "1   City_10  2.956159\n",
       "2   City_11  2.981964\n",
       "3   City_12  3.027079\n",
       "4   City_13  3.129091\n",
       "5   City_14  2.986408\n",
       "6   City_15  3.029703\n",
       "7   City_16  2.916667\n",
       "8   City_17  3.006696\n",
       "9   City_18  3.029070\n",
       "10  City_19  3.055118\n",
       "11   City_2  3.006012\n",
       "12  City_20  2.977642\n",
       "13   City_3  2.962818\n",
       "14   City_4  2.998047\n",
       "15   City_5  2.953722\n",
       "16   City_6  2.964215\n",
       "17   City_7  3.054585\n",
       "18   City_8  3.037402\n",
       "19   City_9  3.080082"
      ]
     },
     "execution_count": 57,
     "metadata": {},
     "output_type": "execute_result"
    }
   ],
   "source": [
    "# Total quantity by location\n",
    "qty_location_group = df.groupby(\"Location\")[\"Quantity\"].mean()\\\n",
    ".reset_index()\n",
    "qty_location_group"
   ]
  },
  {
   "cell_type": "code",
   "execution_count": 58,
   "id": "e373f4f5",
   "metadata": {
    "execution": {
     "iopub.execute_input": "2024-01-03T07:27:28.615776Z",
     "iopub.status.busy": "2024-01-03T07:27:28.615262Z",
     "iopub.status.idle": "2024-01-03T07:27:28.628005Z",
     "shell.execute_reply": "2024-01-03T07:27:28.626495Z"
    },
    "papermill": {
     "duration": 0.053922,
     "end_time": "2024-01-03T07:27:28.630562",
     "exception": false,
     "start_time": "2024-01-03T07:27:28.576640",
     "status": "completed"
    },
    "tags": []
   },
   "outputs": [
    {
     "data": {
      "text/plain": [
       "Category\n",
       "Clothing       1950\n",
       "Decorations    1995\n",
       "Electronics    2053\n",
       "Food           1991\n",
       "Toys           2011\n",
       "Name: Category, dtype: int64"
      ]
     },
     "execution_count": 58,
     "metadata": {},
     "output_type": "execute_result"
    }
   ],
   "source": [
    "# Number of items in each category\n",
    "cat_count = df.groupby([\"Category\"])[\"Category\"].count()\n",
    "cat_count"
   ]
  },
  {
   "cell_type": "code",
   "execution_count": 59,
   "id": "fdf34189",
   "metadata": {
    "execution": {
     "iopub.execute_input": "2024-01-03T07:27:28.706119Z",
     "iopub.status.busy": "2024-01-03T07:27:28.705724Z",
     "iopub.status.idle": "2024-01-03T07:27:28.715947Z",
     "shell.execute_reply": "2024-01-03T07:27:28.714773Z"
    },
    "papermill": {
     "duration": 0.05056,
     "end_time": "2024-01-03T07:27:28.718141",
     "exception": false,
     "start_time": "2024-01-03T07:27:28.667581",
     "status": "completed"
    },
    "tags": []
   },
   "outputs": [
    {
     "data": {
      "text/plain": [
       "GiftWrap\n",
       "False    4975\n",
       "True     5025\n",
       "Name: GiftWrap, dtype: int64"
      ]
     },
     "execution_count": 59,
     "metadata": {},
     "output_type": "execute_result"
    }
   ],
   "source": [
    "# Number of items with or without giftwrap\n",
    "wrap_count = df.groupby([\"GiftWrap\"])[\"GiftWrap\"].count()\n",
    "wrap_count"
   ]
  },
  {
   "cell_type": "code",
   "execution_count": 60,
   "id": "08e10873",
   "metadata": {
    "execution": {
     "iopub.execute_input": "2024-01-03T07:27:28.795305Z",
     "iopub.status.busy": "2024-01-03T07:27:28.794484Z",
     "iopub.status.idle": "2024-01-03T07:27:28.809846Z",
     "shell.execute_reply": "2024-01-03T07:27:28.808921Z"
    },
    "papermill": {
     "duration": 0.057104,
     "end_time": "2024-01-03T07:27:28.812142",
     "exception": false,
     "start_time": "2024-01-03T07:27:28.755038",
     "status": "completed"
    },
    "tags": []
   },
   "outputs": [
    {
     "data": {
      "text/html": [
       "<div>\n",
       "<style scoped>\n",
       "    .dataframe tbody tr th:only-of-type {\n",
       "        vertical-align: middle;\n",
       "    }\n",
       "\n",
       "    .dataframe tbody tr th {\n",
       "        vertical-align: top;\n",
       "    }\n",
       "\n",
       "    .dataframe thead th {\n",
       "        text-align: right;\n",
       "    }\n",
       "</style>\n",
       "<table border=\"1\" class=\"dataframe\">\n",
       "  <thead>\n",
       "    <tr style=\"text-align: right;\">\n",
       "      <th></th>\n",
       "      <th>Location</th>\n",
       "      <th>Age</th>\n",
       "    </tr>\n",
       "  </thead>\n",
       "  <tbody>\n",
       "    <tr>\n",
       "      <th>0</th>\n",
       "      <td>City_1</td>\n",
       "      <td>44.416667</td>\n",
       "    </tr>\n",
       "    <tr>\n",
       "      <th>1</th>\n",
       "      <td>City_10</td>\n",
       "      <td>43.419624</td>\n",
       "    </tr>\n",
       "    <tr>\n",
       "      <th>2</th>\n",
       "      <td>City_11</td>\n",
       "      <td>43.895792</td>\n",
       "    </tr>\n",
       "    <tr>\n",
       "      <th>3</th>\n",
       "      <td>City_12</td>\n",
       "      <td>42.266925</td>\n",
       "    </tr>\n",
       "    <tr>\n",
       "      <th>4</th>\n",
       "      <td>City_13</td>\n",
       "      <td>44.641818</td>\n",
       "    </tr>\n",
       "    <tr>\n",
       "      <th>5</th>\n",
       "      <td>City_14</td>\n",
       "      <td>44.132039</td>\n",
       "    </tr>\n",
       "    <tr>\n",
       "      <th>6</th>\n",
       "      <td>City_15</td>\n",
       "      <td>44.003960</td>\n",
       "    </tr>\n",
       "    <tr>\n",
       "      <th>7</th>\n",
       "      <td>City_16</td>\n",
       "      <td>44.214583</td>\n",
       "    </tr>\n",
       "    <tr>\n",
       "      <th>8</th>\n",
       "      <td>City_17</td>\n",
       "      <td>42.129464</td>\n",
       "    </tr>\n",
       "    <tr>\n",
       "      <th>9</th>\n",
       "      <td>City_18</td>\n",
       "      <td>44.996124</td>\n",
       "    </tr>\n",
       "    <tr>\n",
       "      <th>10</th>\n",
       "      <td>City_19</td>\n",
       "      <td>43.395669</td>\n",
       "    </tr>\n",
       "    <tr>\n",
       "      <th>11</th>\n",
       "      <td>City_2</td>\n",
       "      <td>42.827655</td>\n",
       "    </tr>\n",
       "    <tr>\n",
       "      <th>12</th>\n",
       "      <td>City_20</td>\n",
       "      <td>43.508130</td>\n",
       "    </tr>\n",
       "    <tr>\n",
       "      <th>13</th>\n",
       "      <td>City_3</td>\n",
       "      <td>44.248532</td>\n",
       "    </tr>\n",
       "    <tr>\n",
       "      <th>14</th>\n",
       "      <td>City_4</td>\n",
       "      <td>43.427734</td>\n",
       "    </tr>\n",
       "    <tr>\n",
       "      <th>15</th>\n",
       "      <td>City_5</td>\n",
       "      <td>45.100604</td>\n",
       "    </tr>\n",
       "    <tr>\n",
       "      <th>16</th>\n",
       "      <td>City_6</td>\n",
       "      <td>43.974155</td>\n",
       "    </tr>\n",
       "    <tr>\n",
       "      <th>17</th>\n",
       "      <td>City_7</td>\n",
       "      <td>44.500000</td>\n",
       "    </tr>\n",
       "    <tr>\n",
       "      <th>18</th>\n",
       "      <td>City_8</td>\n",
       "      <td>43.147638</td>\n",
       "    </tr>\n",
       "    <tr>\n",
       "      <th>19</th>\n",
       "      <td>City_9</td>\n",
       "      <td>43.375770</td>\n",
       "    </tr>\n",
       "  </tbody>\n",
       "</table>\n",
       "</div>"
      ],
      "text/plain": [
       "   Location        Age\n",
       "0    City_1  44.416667\n",
       "1   City_10  43.419624\n",
       "2   City_11  43.895792\n",
       "3   City_12  42.266925\n",
       "4   City_13  44.641818\n",
       "5   City_14  44.132039\n",
       "6   City_15  44.003960\n",
       "7   City_16  44.214583\n",
       "8   City_17  42.129464\n",
       "9   City_18  44.996124\n",
       "10  City_19  43.395669\n",
       "11   City_2  42.827655\n",
       "12  City_20  43.508130\n",
       "13   City_3  44.248532\n",
       "14   City_4  43.427734\n",
       "15   City_5  45.100604\n",
       "16   City_6  43.974155\n",
       "17   City_7  44.500000\n",
       "18   City_8  43.147638\n",
       "19   City_9  43.375770"
      ]
     },
     "execution_count": 60,
     "metadata": {},
     "output_type": "execute_result"
    }
   ],
   "source": [
    "# Average age in eacb loaction\n",
    "avgage_location_group = df.groupby(\"Location\")[\"Age\"].mean()\\\n",
    ".reset_index()\n",
    "avgage_location_group"
   ]
  },
  {
   "cell_type": "code",
   "execution_count": 61,
   "id": "05ef72fe",
   "metadata": {
    "execution": {
     "iopub.execute_input": "2024-01-03T07:27:28.891344Z",
     "iopub.status.busy": "2024-01-03T07:27:28.890573Z",
     "iopub.status.idle": "2024-01-03T07:27:28.905856Z",
     "shell.execute_reply": "2024-01-03T07:27:28.904792Z"
    },
    "papermill": {
     "duration": 0.058106,
     "end_time": "2024-01-03T07:27:28.908176",
     "exception": false,
     "start_time": "2024-01-03T07:27:28.850070",
     "status": "completed"
    },
    "tags": []
   },
   "outputs": [
    {
     "data": {
      "text/html": [
       "<div>\n",
       "<style scoped>\n",
       "    .dataframe tbody tr th:only-of-type {\n",
       "        vertical-align: middle;\n",
       "    }\n",
       "\n",
       "    .dataframe tbody tr th {\n",
       "        vertical-align: top;\n",
       "    }\n",
       "\n",
       "    .dataframe thead th {\n",
       "        text-align: right;\n",
       "    }\n",
       "</style>\n",
       "<table border=\"1\" class=\"dataframe\">\n",
       "  <thead>\n",
       "    <tr style=\"text-align: right;\">\n",
       "      <th></th>\n",
       "      <th>Location</th>\n",
       "      <th>Age</th>\n",
       "    </tr>\n",
       "  </thead>\n",
       "  <tbody>\n",
       "    <tr>\n",
       "      <th>0</th>\n",
       "      <td>City_1</td>\n",
       "      <td>18</td>\n",
       "    </tr>\n",
       "    <tr>\n",
       "      <th>1</th>\n",
       "      <td>City_10</td>\n",
       "      <td>18</td>\n",
       "    </tr>\n",
       "    <tr>\n",
       "      <th>2</th>\n",
       "      <td>City_11</td>\n",
       "      <td>18</td>\n",
       "    </tr>\n",
       "    <tr>\n",
       "      <th>3</th>\n",
       "      <td>City_12</td>\n",
       "      <td>18</td>\n",
       "    </tr>\n",
       "    <tr>\n",
       "      <th>4</th>\n",
       "      <td>City_13</td>\n",
       "      <td>18</td>\n",
       "    </tr>\n",
       "    <tr>\n",
       "      <th>5</th>\n",
       "      <td>City_14</td>\n",
       "      <td>18</td>\n",
       "    </tr>\n",
       "    <tr>\n",
       "      <th>6</th>\n",
       "      <td>City_15</td>\n",
       "      <td>18</td>\n",
       "    </tr>\n",
       "    <tr>\n",
       "      <th>7</th>\n",
       "      <td>City_16</td>\n",
       "      <td>18</td>\n",
       "    </tr>\n",
       "    <tr>\n",
       "      <th>8</th>\n",
       "      <td>City_17</td>\n",
       "      <td>18</td>\n",
       "    </tr>\n",
       "    <tr>\n",
       "      <th>9</th>\n",
       "      <td>City_18</td>\n",
       "      <td>18</td>\n",
       "    </tr>\n",
       "    <tr>\n",
       "      <th>10</th>\n",
       "      <td>City_19</td>\n",
       "      <td>18</td>\n",
       "    </tr>\n",
       "    <tr>\n",
       "      <th>11</th>\n",
       "      <td>City_2</td>\n",
       "      <td>18</td>\n",
       "    </tr>\n",
       "    <tr>\n",
       "      <th>12</th>\n",
       "      <td>City_20</td>\n",
       "      <td>18</td>\n",
       "    </tr>\n",
       "    <tr>\n",
       "      <th>13</th>\n",
       "      <td>City_3</td>\n",
       "      <td>18</td>\n",
       "    </tr>\n",
       "    <tr>\n",
       "      <th>14</th>\n",
       "      <td>City_4</td>\n",
       "      <td>18</td>\n",
       "    </tr>\n",
       "    <tr>\n",
       "      <th>15</th>\n",
       "      <td>City_5</td>\n",
       "      <td>18</td>\n",
       "    </tr>\n",
       "    <tr>\n",
       "      <th>16</th>\n",
       "      <td>City_6</td>\n",
       "      <td>18</td>\n",
       "    </tr>\n",
       "    <tr>\n",
       "      <th>17</th>\n",
       "      <td>City_7</td>\n",
       "      <td>18</td>\n",
       "    </tr>\n",
       "    <tr>\n",
       "      <th>18</th>\n",
       "      <td>City_8</td>\n",
       "      <td>18</td>\n",
       "    </tr>\n",
       "    <tr>\n",
       "      <th>19</th>\n",
       "      <td>City_9</td>\n",
       "      <td>18</td>\n",
       "    </tr>\n",
       "  </tbody>\n",
       "</table>\n",
       "</div>"
      ],
      "text/plain": [
       "   Location  Age\n",
       "0    City_1   18\n",
       "1   City_10   18\n",
       "2   City_11   18\n",
       "3   City_12   18\n",
       "4   City_13   18\n",
       "5   City_14   18\n",
       "6   City_15   18\n",
       "7   City_16   18\n",
       "8   City_17   18\n",
       "9   City_18   18\n",
       "10  City_19   18\n",
       "11   City_2   18\n",
       "12  City_20   18\n",
       "13   City_3   18\n",
       "14   City_4   18\n",
       "15   City_5   18\n",
       "16   City_6   18\n",
       "17   City_7   18\n",
       "18   City_8   18\n",
       "19   City_9   18"
      ]
     },
     "execution_count": 61,
     "metadata": {},
     "output_type": "execute_result"
    }
   ],
   "source": [
    "# Minimum age in each location\n",
    "minage_location_group = df.groupby(\"Location\")[\"Age\"].min()\\\n",
    ".reset_index()\n",
    "minage_location_group"
   ]
  },
  {
   "cell_type": "markdown",
   "id": "ec3ff167",
   "metadata": {
    "papermill": {
     "duration": 0.037243,
     "end_time": "2024-01-03T07:27:28.982914",
     "exception": false,
     "start_time": "2024-01-03T07:27:28.945671",
     "status": "completed"
    },
    "tags": []
   },
   "source": [
    "## Pivot Tables"
   ]
  },
  {
   "cell_type": "code",
   "execution_count": 62,
   "id": "05099e1d",
   "metadata": {
    "execution": {
     "iopub.execute_input": "2024-01-03T07:27:29.059462Z",
     "iopub.status.busy": "2024-01-03T07:27:29.058965Z",
     "iopub.status.idle": "2024-01-03T07:27:29.080786Z",
     "shell.execute_reply": "2024-01-03T07:27:29.079604Z"
    },
    "papermill": {
     "duration": 0.062966,
     "end_time": "2024-01-03T07:27:29.083079",
     "exception": false,
     "start_time": "2024-01-03T07:27:29.020113",
     "status": "completed"
    },
    "tags": []
   },
   "outputs": [
    {
     "data": {
      "text/html": [
       "<div>\n",
       "<style scoped>\n",
       "    .dataframe tbody tr th:only-of-type {\n",
       "        vertical-align: middle;\n",
       "    }\n",
       "\n",
       "    .dataframe tbody tr th {\n",
       "        vertical-align: top;\n",
       "    }\n",
       "\n",
       "    .dataframe thead th {\n",
       "        text-align: right;\n",
       "    }\n",
       "</style>\n",
       "<table border=\"1\" class=\"dataframe\">\n",
       "  <thead>\n",
       "    <tr style=\"text-align: right;\">\n",
       "      <th>ProductName</th>\n",
       "      <th>Clothing_Product</th>\n",
       "      <th>Decorations_Product</th>\n",
       "      <th>Electronics_Product</th>\n",
       "      <th>Food_Product</th>\n",
       "      <th>Toys_Product</th>\n",
       "    </tr>\n",
       "  </thead>\n",
       "  <tbody>\n",
       "    <tr>\n",
       "      <th>DiscountAmount</th>\n",
       "      <td>13443.293037</td>\n",
       "      <td>13542.347899</td>\n",
       "      <td>14717.403431</td>\n",
       "      <td>13769.310299</td>\n",
       "      <td>14073.093960</td>\n",
       "    </tr>\n",
       "    <tr>\n",
       "      <th>Quantity</th>\n",
       "      <td>5857.000000</td>\n",
       "      <td>5897.000000</td>\n",
       "      <td>6226.000000</td>\n",
       "      <td>6021.000000</td>\n",
       "      <td>6105.000000</td>\n",
       "    </tr>\n",
       "    <tr>\n",
       "      <th>TotalRevenue</th>\n",
       "      <td>320876.639373</td>\n",
       "      <td>323813.075845</td>\n",
       "      <td>336650.279665</td>\n",
       "      <td>332606.925575</td>\n",
       "      <td>340313.227782</td>\n",
       "    </tr>\n",
       "  </tbody>\n",
       "</table>\n",
       "</div>"
      ],
      "text/plain": [
       "ProductName     Clothing_Product  Decorations_Product  Electronics_Product  \\\n",
       "DiscountAmount      13443.293037         13542.347899         14717.403431   \n",
       "Quantity             5857.000000          5897.000000          6226.000000   \n",
       "TotalRevenue       320876.639373        323813.075845        336650.279665   \n",
       "\n",
       "ProductName      Food_Product   Toys_Product  \n",
       "DiscountAmount   13769.310299   14073.093960  \n",
       "Quantity          6021.000000    6105.000000  \n",
       "TotalRevenue    332606.925575  340313.227782  "
      ]
     },
     "execution_count": 62,
     "metadata": {},
     "output_type": "execute_result"
    }
   ],
   "source": [
    "# Total revenue, total quantity \n",
    "# and total discount of each product\n",
    "tr_tq_td_pivot = pd.pivot_table(df,\n",
    "                               values = ['Quantity','TotalRevenue',\n",
    "                                        'DiscountAmount'], columns = ['ProductName'],\n",
    "                                aggfunc = np.sum\n",
    "                               )\n",
    "tr_tq_td_pivot\n"
   ]
  },
  {
   "cell_type": "code",
   "execution_count": 63,
   "id": "8d5fe8ef",
   "metadata": {
    "execution": {
     "iopub.execute_input": "2024-01-03T07:27:29.160437Z",
     "iopub.status.busy": "2024-01-03T07:27:29.159926Z",
     "iopub.status.idle": "2024-01-03T07:27:29.182926Z",
     "shell.execute_reply": "2024-01-03T07:27:29.181824Z"
    },
    "papermill": {
     "duration": 0.065172,
     "end_time": "2024-01-03T07:27:29.185816",
     "exception": false,
     "start_time": "2024-01-03T07:27:29.120644",
     "status": "completed"
    },
    "tags": []
   },
   "outputs": [
    {
     "data": {
      "text/html": [
       "<div>\n",
       "<style scoped>\n",
       "    .dataframe tbody tr th:only-of-type {\n",
       "        vertical-align: middle;\n",
       "    }\n",
       "\n",
       "    .dataframe tbody tr th {\n",
       "        vertical-align: top;\n",
       "    }\n",
       "\n",
       "    .dataframe thead th {\n",
       "        text-align: right;\n",
       "    }\n",
       "</style>\n",
       "<table border=\"1\" class=\"dataframe\">\n",
       "  <thead>\n",
       "    <tr style=\"text-align: right;\">\n",
       "      <th>ProductName</th>\n",
       "      <th>Clothing_Product</th>\n",
       "      <th>Decorations_Product</th>\n",
       "      <th>Electronics_Product</th>\n",
       "      <th>Food_Product</th>\n",
       "      <th>Toys_Product</th>\n",
       "    </tr>\n",
       "  </thead>\n",
       "  <tbody>\n",
       "    <tr>\n",
       "      <th>DiscountAmount</th>\n",
       "      <td>6.893996</td>\n",
       "      <td>6.788144</td>\n",
       "      <td>7.168730</td>\n",
       "      <td>6.915776</td>\n",
       "      <td>6.998058</td>\n",
       "    </tr>\n",
       "    <tr>\n",
       "      <th>Quantity</th>\n",
       "      <td>3.003590</td>\n",
       "      <td>2.955890</td>\n",
       "      <td>3.032635</td>\n",
       "      <td>3.024108</td>\n",
       "      <td>3.035803</td>\n",
       "    </tr>\n",
       "    <tr>\n",
       "      <th>TotalRevenue</th>\n",
       "      <td>164.552123</td>\n",
       "      <td>162.312319</td>\n",
       "      <td>163.979678</td>\n",
       "      <td>167.055211</td>\n",
       "      <td>169.225872</td>\n",
       "    </tr>\n",
       "  </tbody>\n",
       "</table>\n",
       "</div>"
      ],
      "text/plain": [
       "ProductName     Clothing_Product  Decorations_Product  Electronics_Product  \\\n",
       "DiscountAmount          6.893996             6.788144             7.168730   \n",
       "Quantity                3.003590             2.955890             3.032635   \n",
       "TotalRevenue          164.552123           162.312319           163.979678   \n",
       "\n",
       "ProductName     Food_Product  Toys_Product  \n",
       "DiscountAmount      6.915776      6.998058  \n",
       "Quantity            3.024108      3.035803  \n",
       "TotalRevenue      167.055211    169.225872  "
      ]
     },
     "execution_count": 63,
     "metadata": {},
     "output_type": "execute_result"
    }
   ],
   "source": [
    "# Average revenue, average quantity \n",
    "# and average discount of each product\n",
    "ar_aq_ad_pivot = pd.pivot_table(df,\n",
    "                               values = ['Quantity','TotalRevenue',\n",
    "                                        'DiscountAmount'], columns = ['ProductName'],\n",
    "                                aggfunc = np.mean\n",
    "                               )\n",
    "ar_aq_ad_pivot"
   ]
  },
  {
   "cell_type": "code",
   "execution_count": 64,
   "id": "17c656e1",
   "metadata": {
    "execution": {
     "iopub.execute_input": "2024-01-03T07:27:29.268795Z",
     "iopub.status.busy": "2024-01-03T07:27:29.267627Z",
     "iopub.status.idle": "2024-01-03T07:27:29.292083Z",
     "shell.execute_reply": "2024-01-03T07:27:29.290913Z"
    },
    "papermill": {
     "duration": 0.067649,
     "end_time": "2024-01-03T07:27:29.294574",
     "exception": false,
     "start_time": "2024-01-03T07:27:29.226925",
     "status": "completed"
    },
    "tags": []
   },
   "outputs": [
    {
     "data": {
      "text/html": [
       "<div>\n",
       "<style scoped>\n",
       "    .dataframe tbody tr th:only-of-type {\n",
       "        vertical-align: middle;\n",
       "    }\n",
       "\n",
       "    .dataframe tbody tr th {\n",
       "        vertical-align: top;\n",
       "    }\n",
       "\n",
       "    .dataframe thead th {\n",
       "        text-align: right;\n",
       "    }\n",
       "</style>\n",
       "<table border=\"1\" class=\"dataframe\">\n",
       "  <thead>\n",
       "    <tr style=\"text-align: right;\">\n",
       "      <th>PaymentType</th>\n",
       "      <th>index</th>\n",
       "      <th>Cash</th>\n",
       "      <th>Credit Card</th>\n",
       "      <th>Debit Card</th>\n",
       "      <th>Online Payment</th>\n",
       "    </tr>\n",
       "  </thead>\n",
       "  <tbody>\n",
       "    <tr>\n",
       "      <th>0</th>\n",
       "      <td>DiscountAmount</td>\n",
       "      <td>6.796887</td>\n",
       "      <td>7.536557</td>\n",
       "      <td>6.790661</td>\n",
       "      <td>6.696229</td>\n",
       "    </tr>\n",
       "    <tr>\n",
       "      <th>1</th>\n",
       "      <td>Quantity</td>\n",
       "      <td>3.005512</td>\n",
       "      <td>3.044854</td>\n",
       "      <td>3.014833</td>\n",
       "      <td>2.977918</td>\n",
       "    </tr>\n",
       "    <tr>\n",
       "      <th>2</th>\n",
       "      <td>TotalRevenue</td>\n",
       "      <td>165.976102</td>\n",
       "      <td>168.807439</td>\n",
       "      <td>165.712541</td>\n",
       "      <td>161.271426</td>\n",
       "    </tr>\n",
       "  </tbody>\n",
       "</table>\n",
       "</div>"
      ],
      "text/plain": [
       "PaymentType           index        Cash  Credit Card  Debit Card  \\\n",
       "0            DiscountAmount    6.796887     7.536557    6.790661   \n",
       "1                  Quantity    3.005512     3.044854    3.014833   \n",
       "2              TotalRevenue  165.976102   168.807439  165.712541   \n",
       "\n",
       "PaymentType  Online Payment  \n",
       "0                  6.696229  \n",
       "1                  2.977918  \n",
       "2                161.271426  "
      ]
     },
     "execution_count": 64,
     "metadata": {},
     "output_type": "execute_result"
    }
   ],
   "source": [
    "# average revenue, average quantity \n",
    "# and average discount for each payment type\n",
    "ar_aq_ad_payment_pivot = pd.pivot_table(df,\n",
    "                               values = ['Quantity','TotalRevenue',\n",
    "                                        'DiscountAmount'], columns = ['PaymentType'],\n",
    "                               ).reset_index() \n",
    "ar_aq_ad_payment_pivot"
   ]
  },
  {
   "cell_type": "code",
   "execution_count": 65,
   "id": "834f6fa9",
   "metadata": {
    "execution": {
     "iopub.execute_input": "2024-01-03T07:27:29.375515Z",
     "iopub.status.busy": "2024-01-03T07:27:29.374750Z",
     "iopub.status.idle": "2024-01-03T07:27:29.398406Z",
     "shell.execute_reply": "2024-01-03T07:27:29.397213Z"
    },
    "papermill": {
     "duration": 0.067157,
     "end_time": "2024-01-03T07:27:29.400866",
     "exception": false,
     "start_time": "2024-01-03T07:27:29.333709",
     "status": "completed"
    },
    "tags": []
   },
   "outputs": [
    {
     "data": {
      "text/html": [
       "<div>\n",
       "<style scoped>\n",
       "    .dataframe tbody tr th:only-of-type {\n",
       "        vertical-align: middle;\n",
       "    }\n",
       "\n",
       "    .dataframe tbody tr th {\n",
       "        vertical-align: top;\n",
       "    }\n",
       "\n",
       "    .dataframe thead th {\n",
       "        text-align: right;\n",
       "    }\n",
       "</style>\n",
       "<table border=\"1\" class=\"dataframe\">\n",
       "  <thead>\n",
       "    <tr style=\"text-align: right;\">\n",
       "      <th>ProductName</th>\n",
       "      <th>index</th>\n",
       "      <th>Clothing_Product</th>\n",
       "      <th>Decorations_Product</th>\n",
       "      <th>Electronics_Product</th>\n",
       "      <th>Food_Product</th>\n",
       "      <th>Toys_Product</th>\n",
       "    </tr>\n",
       "  </thead>\n",
       "  <tbody>\n",
       "    <tr>\n",
       "      <th>0</th>\n",
       "      <td>DiscountAmount</td>\n",
       "      <td>0.000000</td>\n",
       "      <td>0.000000</td>\n",
       "      <td>0.00000</td>\n",
       "      <td>0.000000</td>\n",
       "      <td>0.000000</td>\n",
       "    </tr>\n",
       "    <tr>\n",
       "      <th>1</th>\n",
       "      <td>Quantity</td>\n",
       "      <td>1.000000</td>\n",
       "      <td>1.000000</td>\n",
       "      <td>1.00000</td>\n",
       "      <td>1.000000</td>\n",
       "      <td>1.000000</td>\n",
       "    </tr>\n",
       "    <tr>\n",
       "      <th>2</th>\n",
       "      <td>TotalRevenue</td>\n",
       "      <td>10.021784</td>\n",
       "      <td>10.017153</td>\n",
       "      <td>10.35654</td>\n",
       "      <td>10.270027</td>\n",
       "      <td>10.528584</td>\n",
       "    </tr>\n",
       "  </tbody>\n",
       "</table>\n",
       "</div>"
      ],
      "text/plain": [
       "ProductName           index  Clothing_Product  Decorations_Product  \\\n",
       "0            DiscountAmount          0.000000             0.000000   \n",
       "1                  Quantity          1.000000             1.000000   \n",
       "2              TotalRevenue         10.021784            10.017153   \n",
       "\n",
       "ProductName  Electronics_Product  Food_Product  Toys_Product  \n",
       "0                        0.00000      0.000000      0.000000  \n",
       "1                        1.00000      1.000000      1.000000  \n",
       "2                       10.35654     10.270027     10.528584  "
      ]
     },
     "execution_count": 65,
     "metadata": {},
     "output_type": "execute_result"
    }
   ],
   "source": [
    "# min revenue, min quantity \n",
    "# and min discount of each product\n",
    "mr_mq_md_pivot = pd.pivot_table(df,\n",
    "                               values = ['Quantity','TotalRevenue',\n",
    "                                        'DiscountAmount'], columns = ['ProductName'],\n",
    "                                aggfunc = np.min\n",
    "                               ).reset_index()\n",
    "mr_mq_md_pivot"
   ]
  },
  {
   "cell_type": "code",
   "execution_count": 66,
   "id": "6aeef5f1",
   "metadata": {
    "execution": {
     "iopub.execute_input": "2024-01-03T07:27:29.482322Z",
     "iopub.status.busy": "2024-01-03T07:27:29.481850Z",
     "iopub.status.idle": "2024-01-03T07:27:29.503227Z",
     "shell.execute_reply": "2024-01-03T07:27:29.502080Z"
    },
    "papermill": {
     "duration": 0.064911,
     "end_time": "2024-01-03T07:27:29.505819",
     "exception": false,
     "start_time": "2024-01-03T07:27:29.440908",
     "status": "completed"
    },
    "tags": []
   },
   "outputs": [
    {
     "data": {
      "text/html": [
       "<div>\n",
       "<style scoped>\n",
       "    .dataframe tbody tr th:only-of-type {\n",
       "        vertical-align: middle;\n",
       "    }\n",
       "\n",
       "    .dataframe tbody tr th {\n",
       "        vertical-align: top;\n",
       "    }\n",
       "\n",
       "    .dataframe thead th {\n",
       "        text-align: right;\n",
       "    }\n",
       "</style>\n",
       "<table border=\"1\" class=\"dataframe\">\n",
       "  <thead>\n",
       "    <tr style=\"text-align: right;\">\n",
       "      <th></th>\n",
       "      <th>ProductName</th>\n",
       "      <th>Category</th>\n",
       "      <th>Event</th>\n",
       "    </tr>\n",
       "  </thead>\n",
       "  <tbody>\n",
       "    <tr>\n",
       "      <th>0</th>\n",
       "      <td>Clothing_Product</td>\n",
       "      <td>1950</td>\n",
       "      <td>1950</td>\n",
       "    </tr>\n",
       "    <tr>\n",
       "      <th>1</th>\n",
       "      <td>Decorations_Product</td>\n",
       "      <td>1995</td>\n",
       "      <td>1995</td>\n",
       "    </tr>\n",
       "    <tr>\n",
       "      <th>2</th>\n",
       "      <td>Electronics_Product</td>\n",
       "      <td>2053</td>\n",
       "      <td>2053</td>\n",
       "    </tr>\n",
       "    <tr>\n",
       "      <th>3</th>\n",
       "      <td>Food_Product</td>\n",
       "      <td>1991</td>\n",
       "      <td>1991</td>\n",
       "    </tr>\n",
       "    <tr>\n",
       "      <th>4</th>\n",
       "      <td>Toys_Product</td>\n",
       "      <td>2011</td>\n",
       "      <td>2011</td>\n",
       "    </tr>\n",
       "  </tbody>\n",
       "</table>\n",
       "</div>"
      ],
      "text/plain": [
       "           ProductName  Category  Event\n",
       "0     Clothing_Product      1950   1950\n",
       "1  Decorations_Product      1995   1995\n",
       "2  Electronics_Product      2053   2053\n",
       "3         Food_Product      1991   1991\n",
       "4         Toys_Product      2011   2011"
      ]
     },
     "execution_count": 66,
     "metadata": {},
     "output_type": "execute_result"
    }
   ],
   "source": [
    "# Count of categories and events for products\n",
    "cc_cp_ce = pd.pivot_table(df, values = [\"Category\",\n",
    "                                        \"Event\"],\n",
    "                          index = ['ProductName'],\n",
    "                         aggfunc = 'count', fill_value = 0)\\\n",
    "                            .reset_index()\n",
    "cc_cp_ce"
   ]
  },
  {
   "cell_type": "code",
   "execution_count": 67,
   "id": "3925cebf",
   "metadata": {
    "execution": {
     "iopub.execute_input": "2024-01-03T07:27:29.588727Z",
     "iopub.status.busy": "2024-01-03T07:27:29.588311Z",
     "iopub.status.idle": "2024-01-03T07:27:29.606599Z",
     "shell.execute_reply": "2024-01-03T07:27:29.605524Z"
    },
    "papermill": {
     "duration": 0.062908,
     "end_time": "2024-01-03T07:27:29.609064",
     "exception": false,
     "start_time": "2024-01-03T07:27:29.546156",
     "status": "completed"
    },
    "tags": []
   },
   "outputs": [
    {
     "data": {
      "text/html": [
       "<div>\n",
       "<style scoped>\n",
       "    .dataframe tbody tr th:only-of-type {\n",
       "        vertical-align: middle;\n",
       "    }\n",
       "\n",
       "    .dataframe tbody tr th {\n",
       "        vertical-align: top;\n",
       "    }\n",
       "\n",
       "    .dataframe thead th {\n",
       "        text-align: right;\n",
       "    }\n",
       "</style>\n",
       "<table border=\"1\" class=\"dataframe\">\n",
       "  <thead>\n",
       "    <tr style=\"text-align: right;\">\n",
       "      <th></th>\n",
       "      <th>CustomerSatisfaction</th>\n",
       "      <th>DiscountAmount</th>\n",
       "      <th>Quantity</th>\n",
       "      <th>TotalRevenue</th>\n",
       "    </tr>\n",
       "  </thead>\n",
       "  <tbody>\n",
       "    <tr>\n",
       "      <th>0</th>\n",
       "      <td>1</td>\n",
       "      <td>14170.905270</td>\n",
       "      <td>6223</td>\n",
       "      <td>339875.731264</td>\n",
       "    </tr>\n",
       "    <tr>\n",
       "      <th>1</th>\n",
       "      <td>2</td>\n",
       "      <td>12901.554506</td>\n",
       "      <td>5959</td>\n",
       "      <td>326809.914081</td>\n",
       "    </tr>\n",
       "    <tr>\n",
       "      <th>2</th>\n",
       "      <td>3</td>\n",
       "      <td>14842.425254</td>\n",
       "      <td>6056</td>\n",
       "      <td>334278.826854</td>\n",
       "    </tr>\n",
       "    <tr>\n",
       "      <th>3</th>\n",
       "      <td>4</td>\n",
       "      <td>14229.911180</td>\n",
       "      <td>5969</td>\n",
       "      <td>326564.355044</td>\n",
       "    </tr>\n",
       "    <tr>\n",
       "      <th>4</th>\n",
       "      <td>5</td>\n",
       "      <td>13400.652417</td>\n",
       "      <td>5899</td>\n",
       "      <td>326731.320997</td>\n",
       "    </tr>\n",
       "  </tbody>\n",
       "</table>\n",
       "</div>"
      ],
      "text/plain": [
       "   CustomerSatisfaction  DiscountAmount  Quantity   TotalRevenue\n",
       "0                     1    14170.905270      6223  339875.731264\n",
       "1                     2    12901.554506      5959  326809.914081\n",
       "2                     3    14842.425254      6056  334278.826854\n",
       "3                     4    14229.911180      5969  326564.355044\n",
       "4                     5    13400.652417      5899  326731.320997"
      ]
     },
     "execution_count": 67,
     "metadata": {},
     "output_type": "execute_result"
    }
   ],
   "source": [
    "# Total revenue, total quantity \n",
    "# and total discount of each product\n",
    "# with customersatisfaction as the index\n",
    "tr_tq_td_sat_pivot = pd.pivot_table(df,\n",
    "                               values = ['Quantity','TotalRevenue',\n",
    "                                        'DiscountAmount'],\n",
    "                               index = ['CustomerSatisfaction'], aggfunc = np.sum\n",
    "                               ).reset_index()\n",
    "tr_tq_td_sat_pivot\n"
   ]
  },
  {
   "cell_type": "code",
   "execution_count": 68,
   "id": "26d0aa03",
   "metadata": {
    "execution": {
     "iopub.execute_input": "2024-01-03T07:27:29.693206Z",
     "iopub.status.busy": "2024-01-03T07:27:29.692779Z",
     "iopub.status.idle": "2024-01-03T07:27:29.724213Z",
     "shell.execute_reply": "2024-01-03T07:27:29.723064Z"
    },
    "papermill": {
     "duration": 0.078083,
     "end_time": "2024-01-03T07:27:29.727112",
     "exception": false,
     "start_time": "2024-01-03T07:27:29.649029",
     "status": "completed"
    },
    "tags": []
   },
   "outputs": [
    {
     "data": {
      "text/html": [
       "<div>\n",
       "<style scoped>\n",
       "    .dataframe tbody tr th:only-of-type {\n",
       "        vertical-align: middle;\n",
       "    }\n",
       "\n",
       "    .dataframe tbody tr th {\n",
       "        vertical-align: top;\n",
       "    }\n",
       "\n",
       "    .dataframe thead tr th {\n",
       "        text-align: left;\n",
       "    }\n",
       "</style>\n",
       "<table border=\"1\" class=\"dataframe\">\n",
       "  <thead>\n",
       "    <tr>\n",
       "      <th></th>\n",
       "      <th>PaymentType</th>\n",
       "      <th colspan=\"2\" halign=\"left\">DiscountAmount</th>\n",
       "      <th colspan=\"2\" halign=\"left\">Quantity</th>\n",
       "      <th colspan=\"2\" halign=\"left\">TotalRevenue</th>\n",
       "    </tr>\n",
       "    <tr>\n",
       "      <th>PromotionApplied</th>\n",
       "      <th></th>\n",
       "      <th>False</th>\n",
       "      <th>True</th>\n",
       "      <th>False</th>\n",
       "      <th>True</th>\n",
       "      <th>False</th>\n",
       "      <th>True</th>\n",
       "    </tr>\n",
       "  </thead>\n",
       "  <tbody>\n",
       "    <tr>\n",
       "      <th>0</th>\n",
       "      <td>Cash</td>\n",
       "      <td>8661.454064</td>\n",
       "      <td>8602.638101</td>\n",
       "      <td>3808</td>\n",
       "      <td>3826</td>\n",
       "      <td>210721.900162</td>\n",
       "      <td>210857.400026</td>\n",
       "    </tr>\n",
       "    <tr>\n",
       "      <th>1</th>\n",
       "      <td>Credit Card</td>\n",
       "      <td>9346.499738</td>\n",
       "      <td>9472.283878</td>\n",
       "      <td>3764</td>\n",
       "      <td>3839</td>\n",
       "      <td>209593.961432</td>\n",
       "      <td>211918.213569</td>\n",
       "    </tr>\n",
       "    <tr>\n",
       "      <th>2</th>\n",
       "      <td>Debit Card</td>\n",
       "      <td>8229.652361</td>\n",
       "      <td>8251.282483</td>\n",
       "      <td>3618</td>\n",
       "      <td>3699</td>\n",
       "      <td>201321.424877</td>\n",
       "      <td>200862.912522</td>\n",
       "    </tr>\n",
       "    <tr>\n",
       "      <th>3</th>\n",
       "      <td>Online Payment</td>\n",
       "      <td>8594.637630</td>\n",
       "      <td>8387.000372</td>\n",
       "      <td>3724</td>\n",
       "      <td>3828</td>\n",
       "      <td>202854.848425</td>\n",
       "      <td>206129.487226</td>\n",
       "    </tr>\n",
       "  </tbody>\n",
       "</table>\n",
       "</div>"
      ],
      "text/plain": [
       "                     PaymentType DiscountAmount              Quantity        \\\n",
       "PromotionApplied                          False         True    False  True   \n",
       "0                           Cash    8661.454064  8602.638101     3808  3826   \n",
       "1                    Credit Card    9346.499738  9472.283878     3764  3839   \n",
       "2                     Debit Card    8229.652361  8251.282483     3618  3699   \n",
       "3                 Online Payment    8594.637630  8387.000372     3724  3828   \n",
       "\n",
       "                   TotalRevenue                 \n",
       "PromotionApplied          False           True  \n",
       "0                 210721.900162  210857.400026  \n",
       "1                 209593.961432  211918.213569  \n",
       "2                 201321.424877  200862.912522  \n",
       "3                 202854.848425  206129.487226  "
      ]
     },
     "execution_count": 68,
     "metadata": {},
     "output_type": "execute_result"
    }
   ],
   "source": [
    "# Total revenue, total quantity \n",
    "# and total discount of each product\n",
    "# with payment type as the index\n",
    "# and promotion applied as columns\n",
    "tr_tq_td_promo_payment_pivot = pd.pivot_table(df,\n",
    "                               values = ['Quantity','TotalRevenue',\n",
    "                                        'DiscountAmount'], columns = ['PromotionApplied'],\n",
    "                               index = ['PaymentType'], aggfunc = np.sum\n",
    "                               ).reset_index()\n",
    "tr_tq_td_promo_payment_pivot"
   ]
  },
  {
   "cell_type": "code",
   "execution_count": 69,
   "id": "4d7e1565",
   "metadata": {
    "execution": {
     "iopub.execute_input": "2024-01-03T07:27:29.808325Z",
     "iopub.status.busy": "2024-01-03T07:27:29.807550Z",
     "iopub.status.idle": "2024-01-03T07:27:29.841699Z",
     "shell.execute_reply": "2024-01-03T07:27:29.840584Z"
    },
    "papermill": {
     "duration": 0.077858,
     "end_time": "2024-01-03T07:27:29.844715",
     "exception": false,
     "start_time": "2024-01-03T07:27:29.766857",
     "status": "completed"
    },
    "tags": []
   },
   "outputs": [
    {
     "data": {
      "text/html": [
       "<div>\n",
       "<style scoped>\n",
       "    .dataframe tbody tr th:only-of-type {\n",
       "        vertical-align: middle;\n",
       "    }\n",
       "\n",
       "    .dataframe tbody tr th {\n",
       "        vertical-align: top;\n",
       "    }\n",
       "\n",
       "    .dataframe thead tr th {\n",
       "        text-align: left;\n",
       "    }\n",
       "</style>\n",
       "<table border=\"1\" class=\"dataframe\">\n",
       "  <thead>\n",
       "    <tr>\n",
       "      <th></th>\n",
       "      <th colspan=\"3\" halign=\"left\">sum</th>\n",
       "      <th colspan=\"3\" halign=\"left\">mean</th>\n",
       "      <th colspan=\"3\" halign=\"left\">count</th>\n",
       "    </tr>\n",
       "    <tr>\n",
       "      <th>Weather</th>\n",
       "      <th>Rainy</th>\n",
       "      <th>Snowy</th>\n",
       "      <th>Sunny</th>\n",
       "      <th>Rainy</th>\n",
       "      <th>Snowy</th>\n",
       "      <th>Sunny</th>\n",
       "      <th>Rainy</th>\n",
       "      <th>Snowy</th>\n",
       "      <th>Sunny</th>\n",
       "    </tr>\n",
       "  </thead>\n",
       "  <tbody>\n",
       "    <tr>\n",
       "      <th>TotalRevenue</th>\n",
       "      <td>576425.456736</td>\n",
       "      <td>542047.352662</td>\n",
       "      <td>535787.338842</td>\n",
       "      <td>169.138925</td>\n",
       "      <td>163.070804</td>\n",
       "      <td>163.949614</td>\n",
       "      <td>3408</td>\n",
       "      <td>3324</td>\n",
       "      <td>3268</td>\n",
       "    </tr>\n",
       "  </tbody>\n",
       "</table>\n",
       "</div>"
      ],
      "text/plain": [
       "                        sum                                      mean  \\\n",
       "Weather               Rainy          Snowy          Sunny       Rainy   \n",
       "TotalRevenue  576425.456736  542047.352662  535787.338842  169.138925   \n",
       "\n",
       "                                     count              \n",
       "Weather            Snowy       Sunny Rainy Snowy Sunny  \n",
       "TotalRevenue  163.070804  163.949614  3408  3324  3268  "
      ]
     },
     "execution_count": 69,
     "metadata": {},
     "output_type": "execute_result"
    }
   ],
   "source": [
    "# Different aggregates for the total revenue column\n",
    "aggs_rev = pd.pivot_table(df,values = 'TotalRevenue', \n",
    "                          columns = ['Weather'],\n",
    "                          aggfunc = ['sum','mean','count'])\n",
    "aggs_rev"
   ]
  },
  {
   "cell_type": "code",
   "execution_count": 70,
   "id": "497a838b",
   "metadata": {
    "execution": {
     "iopub.execute_input": "2024-01-03T07:27:29.927311Z",
     "iopub.status.busy": "2024-01-03T07:27:29.926902Z",
     "iopub.status.idle": "2024-01-03T07:27:29.962234Z",
     "shell.execute_reply": "2024-01-03T07:27:29.960995Z"
    },
    "papermill": {
     "duration": 0.080104,
     "end_time": "2024-01-03T07:27:29.965208",
     "exception": false,
     "start_time": "2024-01-03T07:27:29.885104",
     "status": "completed"
    },
    "tags": []
   },
   "outputs": [
    {
     "data": {
      "text/html": [
       "<div>\n",
       "<style scoped>\n",
       "    .dataframe tbody tr th:only-of-type {\n",
       "        vertical-align: middle;\n",
       "    }\n",
       "\n",
       "    .dataframe tbody tr th {\n",
       "        vertical-align: top;\n",
       "    }\n",
       "\n",
       "    .dataframe thead tr th {\n",
       "        text-align: left;\n",
       "    }\n",
       "</style>\n",
       "<table border=\"1\" class=\"dataframe\">\n",
       "  <thead>\n",
       "    <tr>\n",
       "      <th></th>\n",
       "      <th colspan=\"3\" halign=\"left\">sum</th>\n",
       "      <th colspan=\"3\" halign=\"left\">mean</th>\n",
       "      <th colspan=\"3\" halign=\"left\">count</th>\n",
       "    </tr>\n",
       "    <tr>\n",
       "      <th>Weather</th>\n",
       "      <th>Rainy</th>\n",
       "      <th>Snowy</th>\n",
       "      <th>Sunny</th>\n",
       "      <th>Rainy</th>\n",
       "      <th>Snowy</th>\n",
       "      <th>Sunny</th>\n",
       "      <th>Rainy</th>\n",
       "      <th>Snowy</th>\n",
       "      <th>Sunny</th>\n",
       "    </tr>\n",
       "  </thead>\n",
       "  <tbody>\n",
       "    <tr>\n",
       "      <th>Quantity</th>\n",
       "      <td>10353</td>\n",
       "      <td>10016</td>\n",
       "      <td>9737</td>\n",
       "      <td>3.037852</td>\n",
       "      <td>3.013237</td>\n",
       "      <td>2.979498</td>\n",
       "      <td>3408</td>\n",
       "      <td>3324</td>\n",
       "      <td>3268</td>\n",
       "    </tr>\n",
       "  </tbody>\n",
       "</table>\n",
       "</div>"
      ],
      "text/plain": [
       "            sum                   mean                     count            \n",
       "Weather   Rainy  Snowy Sunny     Rainy     Snowy     Sunny Rainy Snowy Sunny\n",
       "Quantity  10353  10016  9737  3.037852  3.013237  2.979498  3408  3324  3268"
      ]
     },
     "execution_count": 70,
     "metadata": {},
     "output_type": "execute_result"
    }
   ],
   "source": [
    "# Different aggregates for the quantity column\n",
    "aggs_qty = pd.pivot_table(df,values = 'Quantity', columns = ['Weather'],\n",
    "                          aggfunc = ['sum','mean','count'])\n",
    "aggs_qty"
   ]
  },
  {
   "cell_type": "markdown",
   "id": "c2669caf",
   "metadata": {
    "papermill": {
     "duration": 0.040593,
     "end_time": "2024-01-03T07:27:30.047761",
     "exception": false,
     "start_time": "2024-01-03T07:27:30.007168",
     "status": "completed"
    },
    "tags": []
   },
   "source": [
    "# Descriptive Statistics"
   ]
  },
  {
   "cell_type": "code",
   "execution_count": null,
   "id": "2ffcd22c",
   "metadata": {
    "papermill": {
     "duration": 0.042135,
     "end_time": "2024-01-03T07:27:30.130249",
     "exception": false,
     "start_time": "2024-01-03T07:27:30.088114",
     "status": "completed"
    },
    "tags": []
   },
   "outputs": [],
   "source": []
  },
  {
   "cell_type": "markdown",
   "id": "10bcd372",
   "metadata": {
    "papermill": {
     "duration": 0.04065,
     "end_time": "2024-01-03T07:27:30.212207",
     "exception": false,
     "start_time": "2024-01-03T07:27:30.171557",
     "status": "completed"
    },
    "tags": []
   },
   "source": [
    "# Data Visualisation"
   ]
  },
  {
   "cell_type": "markdown",
   "id": "5926efd9",
   "metadata": {
    "papermill": {
     "duration": 0.041941,
     "end_time": "2024-01-03T07:27:30.296092",
     "exception": false,
     "start_time": "2024-01-03T07:27:30.254151",
     "status": "completed"
    },
    "tags": []
   },
   "source": [
    "## Univariate data analysis"
   ]
  }
 ],
 "metadata": {
  "kaggle": {
   "accelerator": "none",
   "dataSources": [
    {
     "datasetId": 4245108,
     "sourceId": 7315448,
     "sourceType": "datasetVersion"
    }
   ],
   "dockerImageVersionId": 30626,
   "isGpuEnabled": false,
   "isInternetEnabled": true,
   "language": "python",
   "sourceType": "notebook"
  },
  "kernelspec": {
   "display_name": "Python 3",
   "language": "python",
   "name": "python3"
  },
  "language_info": {
   "codemirror_mode": {
    "name": "ipython",
    "version": 3
   },
   "file_extension": ".py",
   "mimetype": "text/x-python",
   "name": "python",
   "nbconvert_exporter": "python",
   "pygments_lexer": "ipython3",
   "version": "3.10.12"
  },
  "papermill": {
   "default_parameters": {},
   "duration": 16.497767,
   "end_time": "2024-01-03T07:27:31.160168",
   "environment_variables": {},
   "exception": null,
   "input_path": "__notebook__.ipynb",
   "output_path": "__notebook__.ipynb",
   "parameters": {},
   "start_time": "2024-01-03T07:27:14.662401",
   "version": "2.4.0"
  }
 },
 "nbformat": 4,
 "nbformat_minor": 5
}
